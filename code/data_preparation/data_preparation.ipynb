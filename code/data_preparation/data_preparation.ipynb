{
 "cells": [
  {
   "cell_type": "code",
   "execution_count": 1,
   "id": "f445910d",
   "metadata": {},
   "outputs": [],
   "source": [
    "#导入模块\n",
    "from astropy.io import fits\n",
    "from matplotlib import pyplot as plt\n",
    "from PIL import Image\n",
    "import numpy as np\n",
    "from scipy.optimize import curve_fit\n",
    "from skimage import draw\n",
    "import glob, os\n",
    "from pprint import pprint\n",
    "import math\n",
    "from datetime import datetime\n",
    "\n",
    "from sklearn.cluster import KMeans\n"
   ]
  },
  {
   "cell_type": "code",
   "execution_count": 2,
   "id": "6711dc18",
   "metadata": {},
   "outputs": [],
   "source": [
    "\n",
    "#读取文件\n",
    "def readchase(file):\n",
    "    from astropy.io import fits\n",
    "    hdu = fits.open(file)\n",
    "    try:\n",
    "        data = hdu[0].data.astype(np.float32)\n",
    "        header = hdu[0].header\n",
    "        \n",
    "    except:\n",
    "        header = hdu[1].header\n",
    "        data = hdu[1].data\n",
    "        \n",
    "    if len(data.shape) != 3:\n",
    "        raise TypeError('file ', str(file), 'is not Chase\\'s file, please use other function to read.')\n",
    "        \n",
    "    hdu_time = datetime.strptime(header['DATE_OBS'], \"%Y-%m-%dT%H:%M:%S\")\n",
    "    if hdu_time < datetime.strptime('2023-04-18', \"%Y-%m-%d\"):\n",
    "        cy = header['CRPIX1']\n",
    "        cx = header['CRPIX2']\n",
    "    else:\n",
    "        cx = header['CRPIX1']\n",
    "        cy = header['CRPIX2']\n",
    "    \n",
    "\n",
    "    #改变数组大小、日心位置\n",
    "    data = data[:, int(cy-1023):int(cy+1025), int(cx-1023):int(cx+1025)]\n",
    "    if data.shape != (118,2048,2048):\n",
    "        raise TypeError('Chase file ', file, 'is corrupted, please check.')\n",
    "    \n",
    "    cx = 1023 + cx - int(cx)\n",
    "    cy = 1023 + cy - int(cy)\n",
    "    header['CRPIX1'] = 1023 + cx - int(cx)\n",
    "    header['CRPIX2'] = 1023 + cy - int(cy)\n",
    "    header['NAXIS1'] = 2048\n",
    "    header['NAXIS2'] = 2048\n",
    "    \n",
    "    return data, header\n"
   ]
  },
  {
   "cell_type": "code",
   "execution_count": 3,
   "id": "66b2e3e1",
   "metadata": {},
   "outputs": [],
   "source": [
    "#临边昏暗效应拟合\n",
    "#函数定义\n",
    "\n",
    "#定义距离函数\n",
    "def dist(x1,y1, x2,y2):\n",
    "    return abs(((x1-x2)**2 + (y1-y2)**2)**0.5)\n",
    "\n",
    "#获取拟合数据\n",
    "def get_f_r(line, data):\n",
    "    f_r = []\n",
    "    for element in line:\n",
    "        x,y = element\n",
    "        r = ((x-cx)**2 + (y-cy)**2)**0.5\n",
    "        if r <= 900:#限制拟合半径\n",
    "            f = data[y,x]\n",
    "            f_r.append((r,f))\n",
    "    \n",
    "    f_r = sorted(f_r, key = lambda x:x[0])\n",
    "    return np.array(f_r)\n",
    "\n",
    "#拟合函数：cos函数\n",
    "def func_cos(x,a,b,c):\n",
    "    try:\n",
    "        cos = abs((1 - (x/rsun)**2)**0.5)\n",
    "    except:\n",
    "        cos = 0\n",
    "    f = a + b * cos + c * cos**2\n",
    "    return f\n",
    "\n",
    "def func(X,a,b,c):\n",
    "    x = X[0]\n",
    "    y = X[1]\n",
    "    f = func_cos(x,a,b,c)\n",
    "    return y/f\n",
    "\n",
    "#筛选异常点\n",
    "def select_d_num(y_pre,alpha = 3):\n",
    "    \n",
    "    d_num = []\n",
    "    std = np.std(y_pre)\n",
    "    \n",
    "    for i in range(len(y_pre)):\n",
    "        if abs(y_pre[i] - 1) > (alpha*std):\n",
    "            d_num.append(i)\n",
    "            \n",
    "    return d_num\n",
    "\n",
    "#实现函数拟合\n",
    "def func_fit(func, data, L = 100):\n",
    "    \n",
    "    d_num = []\n",
    "    p0 = [1,1,1]\n",
    "    \n",
    "    for i in range(L):\n",
    "        data = np.delete(data, d_num, axis = 1)\n",
    "        y = np.ones(shape = data.shape[1])\n",
    "        \n",
    "        popt, pcov = curve_fit(f = func, xdata = data, ydata = y, p0 = p0)\n",
    "        p0 = popt\n",
    "        y_pre = func(data, *popt)\n",
    "        \n",
    "        d_num = select_d_num(y_pre)\n",
    "        \n",
    "        if len(d_num) == 0:\n",
    "            break\n",
    "        d_point = data[:,d_num]\n",
    "        \n",
    "    return popt\n"
   ]
  },
  {
   "cell_type": "code",
   "execution_count": 4,
   "id": "f7e36461",
   "metadata": {},
   "outputs": [],
   "source": [
    "#获得系数矩阵（用矩阵来算比遍历快一千倍！尽量别用遍历）\n",
    "def get_coefmat(popt, cx, cy):\n",
    "    \n",
    "    a,b,c = popt\n",
    "    rlim = 880\n",
    "\n",
    "    from numpy import fromfunction\n",
    "\n",
    "    def func_coef(i,j):\n",
    "        r = dist(i,j,cx,cy)\n",
    "        try:\n",
    "            cos = abs((1 - (r/rsun)**2)**0.5)\n",
    "        except:\n",
    "            cos = 0\n",
    "        f = a + b * cos + c * cos**2\n",
    "        return (a+b+c)/f\n",
    "\n",
    "    coef_mat = fromfunction(func_coef, (2048,2048))\n",
    "    coef_mat = np.nan_to_num(coef_mat)\n",
    "\n",
    "    disk = np.zeros(shape = (2048,2048))\n",
    "    disk[draw.disk((cx,cy), rlim, shape = (2048,2048))] = 1\n",
    "\n",
    "    coef_mat = coef_mat * disk\n",
    "    \n",
    "    return coef_mat\n",
    "\n",
    "def kmeans_process(hdu_data, hdu_header):\n",
    "    \n",
    "    print('data processing')\n",
    "    global cx,cy,rot,rsun\n",
    "    cx = hdu_header['CRPIX2']\n",
    "    cy = hdu_header['CRPIX1']\n",
    "    rot = hdu_header['INST_ROT'] * math.pi / 180\n",
    "    rsun = hdu_header['R_SUN']\n",
    "\n",
    "    cos = math.cos(rot)*950\n",
    "    sin = math.sin(rot)*950\n",
    "    line = np.array(draw.line(int(cx-cos),int(cy-sin), int(cx+cos),int(cy+sin))).T\n",
    "    \n",
    "    ndata = np.zeros(shape = (118,2048,2048))\n",
    "    \n",
    "    poptlist = []\n",
    "    for w in range(118):\n",
    "        fdata = hdu_data[w]\n",
    "        f_r = get_f_r(line, fdata)\n",
    "        popt = func_fit(func, f_r.T)\n",
    "        coef_mat = get_coefmat(popt, cx, cy)\n",
    "        ndata[w] = fdata * coef_mat\n",
    "        \n",
    "    \n",
    "    ndata = ndata / func_cos(0, *poptlist[69])\n",
    "    \n",
    "    print('file done')\n",
    "    \n",
    "    return ndata\n"
   ]
  },
  {
   "cell_type": "code",
   "execution_count": 6,
   "id": "56f31115",
   "metadata": {},
   "outputs": [
    {
     "name": "stdout",
     "output_type": "stream",
     "text": [
      "['./chasefile/RSM20230628T005007_0000_HA.fits',\n",
      " './chasefile/RSM20230728T003814_0000_HA.fits',\n",
      " './chasefile/RSM20230304T011852_0000_HA.fits',\n",
      " './chasefile/RSM20230208T000808_0000_HA.fits',\n",
      " './chasefile/RSM20230101T005240_0000_HA.fits',\n",
      " './chasefile/RSM20221226T005329_0000_HA.fits',\n",
      " './chasefile/RSM20221222T002215_0000_HA.fits',\n",
      " './chasefile/RSM20221230T000020_0000_HA.fits',\n",
      " './chasefile/RSM20230320T000022_0000_HA.fits',\n",
      " './chasefile/RSM20230724T000834_0000_HA.fits',\n",
      " './chasefile/RSM20230224T002424_0000_HA.fits',\n",
      " './chasefile/RSM20230204T011324_0000_HA.fits',\n",
      " './chasefile/RSM20230129T011610_0000_HA.fits',\n",
      " './chasefile/RSM20230212T003736_0000_HA.fits',\n",
      " './chasefile/RSM20230228T005025_0000_HA.fits',\n",
      " './chasefile/RSM20230322T010128_0000_HA.fits',\n",
      " './chasefile/RSM20230503T000439_0000_HA.fits',\n",
      " './chasefile/RSM20221218T000016_0000_HA.fits',\n",
      " './chasefile/RSM20221206T001443_0000_HA.fits',\n",
      " './chasefile/RSM20230521T012751_0000_HA.fits',\n",
      " './chasefile/RSM20230612T002214_0000_HA.fits',\n",
      " './chasefile/RSM20230419T005729_0000_HA.fits',\n",
      " './chasefile/RSM20230519T002440_0000_HA.fits',\n",
      " './chasefile/RSM20230614T012509_0000_HA.fits',\n",
      " './chasefile/RSM20230131T004338_0000_HA.fits',\n",
      " './chasefile/RSM20230405T001311_0000_HA.fits',\n",
      " './chasefile/RSM20230317T005057_0000_HA.fits',\n",
      " './chasefile/RSM20221214T010248_0000_HA.fits',\n",
      " './chasefile/RSM20230511T005730_0000_HA.fits',\n",
      " './chasefile/RSM20230704T004813_0000_HA.fits',\n",
      " './chasefile/RSM20230716T004345_0000_HA.fits',\n",
      " './chasefile/RSM20230604T005505_0000_HA.fits',\n",
      " './chasefile/RSM20230111T000026_0000_HA.fits',\n",
      " './chasefile/RSM20230308T001212_0000_HA.fits',\n",
      " './chasefile/RSM20230330T002039_0000_HA.fits',\n",
      " './chasefile/RSM20230722T004108_0000_HA.fits',\n",
      " './chasefile/RSM20230509T105858_0000_HA.fits',\n",
      " './chasefile/RSM20230421T002257_0000_HA.fits',\n",
      " './chasefile/RSM20230515T012837_0000_HA.fits',\n",
      " './chasefile/RSM20230624T001936_0000_HA.fits',\n",
      " './chasefile/RSM20221204T004923_0000_HA.fits',\n",
      " './chasefile/RSM20230119T004825_0000_HA.fits',\n",
      " './chasefile/RSM20230226T012613_0000_HA.fits',\n",
      " './chasefile/RSM20230202T001104_0000_HA.fits',\n",
      " './chasefile/RSM20221220T022901_0000_HA.fits',\n",
      " './chasefile/RSM20230206T004047_0000_HA.fits',\n",
      " './chasefile/RSM20230107T005135_0000_HA.fits',\n",
      " './chasefile/RSM20230105T012338_0000_HA.fits',\n",
      " './chasefile/RSM20230501T003925_0000_HA.fits',\n",
      " './chasefile/RSM20230706T001553_0000_HA.fits',\n",
      " './chasefile/RSM20230222T005727_0000_HA.fits',\n",
      " './chasefile/RSM20230214T000447_0000_HA.fits',\n",
      " './chasefile/RSM20230109T001931_0000_HA.fits',\n",
      " './chasefile/RSM20221210T003729_0000_HA.fits',\n",
      " './chasefile/RSM20230401T012127_0000_HA.fits',\n",
      " './chasefile/RSM20230726T011052_0000_HA.fits',\n",
      " './chasefile/RSM20230413T010552_0000_HA.fits',\n",
      " './chasefile/RSM20230216T010649_0000_HA.fits',\n",
      " './chasefile/RSM20230616T005307_0000_HA.fits',\n",
      " './chasefile/RSM20230708T011828_0000_HA.fits',\n",
      " './chasefile/RSM20230630T001751_0000_HA.fits',\n",
      " './chasefile/RSM20230302T001713_0000_HA.fits',\n",
      " './chasefile/RSM20221202T012120_0000_HA.fits',\n",
      " './chasefile/RSM20230125T004612_0000_HA.fits',\n",
      " './chasefile/RSM20230718T001116_0000_HA.fits',\n",
      " './chasefile/RSM20230720T011340_0000_HA.fits',\n",
      " './chasefile/RSM20221208T011212_0000_HA.fits',\n",
      " './chasefile/RSM20230429T011408_0000_HA.fits',\n",
      " './chasefile/RSM20230423T012314_0000_HA.fits',\n",
      " './chasefile/RSM20230427T001358_0000_HA.fits',\n",
      " './chasefile/RSM20230306T022028_0000_HA.fits',\n",
      " './chasefile/RSM20230210T011021_0000_HA.fits',\n",
      " './chasefile/RSM20230626T012220_0000_HA.fits',\n",
      " './chasefile/RSM20230415T003130_0000_HA.fits',\n",
      " './chasefile/RSM20230220T000054_0000_HA.fits',\n",
      " './chasefile/RSM20230310T011338_0000_HA.fits',\n",
      " './chasefile/RSM20230409T003937_0000_HA.fits',\n",
      " './chasefile/RSM20221216T002800_0000_HA.fits',\n",
      " './chasefile/RSM20230417T013156_0000_HA.fits',\n",
      " './chasefile/RSM20230324T002737_0000_HA.fits',\n",
      " './chasefile/RSM20221224T000104_0001_HA.fits',\n",
      " './chasefile/RSM20230117T000000_0000_HA.fits',\n",
      " './chasefile/RSM20230407T011351_0000_HA.fits',\n",
      " './chasefile/RSM20230316T010748_0000_HA.fits',\n",
      " './chasefile/RSM20230714T011612_0000_HA.fits',\n",
      " './chasefile/RSM20230610T005413_0000_HA.fits',\n",
      " './chasefile/RSM20230326T012835_0000_HA.fits',\n",
      " './chasefile/RSM20230618T002103_0000_HA.fits',\n",
      " './chasefile/RSM20221212T000244_0000_HA.fits',\n",
      " './chasefile/RSM20230529T005542_0000_HA.fits',\n",
      " './chasefile/RSM20230517T023135_0000_HA.fits',\n",
      " './chasefile/RSM20230712T001342_0000_HA.fits',\n",
      " './chasefile/RSM20230702T012031_0000_HA.fits',\n",
      " './chasefile/RSM20230218T003353_0000_HA.fits',\n",
      " './chasefile/RSM20230127T001344_0000_HA.fits',\n",
      " './chasefile/RSM20230525T002421_0000_HA.fits',\n",
      " './chasefile/RSM20230403T004721_0000_HA.fits',\n",
      " './chasefile/RSM20230425T004838_0000_HA.fits',\n",
      " './chasefile/RSM20230608T012611_0000_HA.fits',\n",
      " './chasefile/RSM20230314T000633_0000_HA.fits',\n",
      " './chasefile/RSM20230328T005438_0000_HA.fits',\n",
      " './chasefile/RSM20230523T005606_0000_HA.fits',\n",
      " './chasefile/RSM20230527T012731_0000_HA.fits',\n",
      " './chasefile/RSM20230115T001801_0000_HA.fits',\n",
      " './chasefile/RSM20230507T002953_0000_HA.fits',\n",
      " './chasefile/RSM20230123T011838_0000_HA.fits',\n",
      " './chasefile/RSM20230121T001605_0000_HA.fits',\n",
      " './chasefile/RSM20230531T002352_0000_HA.fits',\n",
      " './chasefile/RSM20230103T002042_0000_HA.fits',\n",
      " './chasefile/RSM20230312T021501_0000_HA.fits',\n",
      " './chasefile/RSM20230505T010442_0000_HA.fits',\n",
      " './chasefile/RSM20230113T005012_0000_HA.fits',\n",
      " './chasefile/RSM20230513T002536_0000_HA.fits',\n",
      " './chasefile/RSM20230622T005145_0000_HA.fits',\n",
      " './chasefile/RSM20230602T012658_0000_HA.fits',\n",
      " './chasefile/RSM20230606T002310_0000_HA.fits',\n",
      " './chasefile/RSM20230619T234857_0000_HA.fits',\n",
      " './chasefile/RSM20230411T000520_0000_HA.fits',\n",
      " './chasefile/RSM20230730T000534_0000_HA.fits',\n",
      " './chasefile/RSM20230710T004606_0000_HA.fits']\n"
     ]
    }
   ],
   "source": [
    "file_path = \"./chasefile\"\n",
    "\n",
    "file_list = glob.glob(os.path.join(file_path, \"*HA.fits\"))\n",
    "pprint(file_list)"
   ]
  },
  {
   "cell_type": "code",
   "execution_count": 7,
   "id": "7c9c70bc",
   "metadata": {},
   "outputs": [
    {
     "name": "stdout",
     "output_type": "stream",
     "text": [
      "120\n"
     ]
    }
   ],
   "source": [
    "print(len(file_list))"
   ]
  },
  {
   "cell_type": "code",
   "execution_count": 14,
   "id": "a5b297df",
   "metadata": {},
   "outputs": [
    {
     "name": "stdout",
     "output_type": "stream",
     "text": [
      "data processing\n"
     ]
    },
    {
     "name": "stderr",
     "output_type": "stream",
     "text": [
      "/tmp/ipykernel_2221566/2492021236.py:12: RuntimeWarning: invalid value encountered in sqrt\n",
      "  cos = abs((1 - (r/rsun)**2)**0.5)\n"
     ]
    },
    {
     "name": "stdout",
     "output_type": "stream",
     "text": [
      "file done\n"
     ]
    },
    {
     "name": "stderr",
     "output_type": "stream",
     "text": [
      "/home/aiia/newDisk/anaconda3/envs/zz_pytorch/lib/python3.9/site-packages/sklearn/cluster/_kmeans.py:1412: FutureWarning: The default value of `n_init` will change from 10 to 'auto' in 1.4. Set the value of `n_init` explicitly to suppress the warning\n",
      "  super()._check_params_vs_input(X, default_n_init=10)\n"
     ]
    },
    {
     "name": "stdout",
     "output_type": "stream",
     "text": [
      "coasted 0:04:40.028321\n",
      "data processing\n"
     ]
    },
    {
     "name": "stderr",
     "output_type": "stream",
     "text": [
      "/tmp/ipykernel_2221566/2492021236.py:12: RuntimeWarning: invalid value encountered in sqrt\n",
      "  cos = abs((1 - (r/rsun)**2)**0.5)\n"
     ]
    },
    {
     "name": "stdout",
     "output_type": "stream",
     "text": [
      "file done\n"
     ]
    },
    {
     "name": "stderr",
     "output_type": "stream",
     "text": [
      "/home/aiia/newDisk/anaconda3/envs/zz_pytorch/lib/python3.9/site-packages/sklearn/cluster/_kmeans.py:1412: FutureWarning: The default value of `n_init` will change from 10 to 'auto' in 1.4. Set the value of `n_init` explicitly to suppress the warning\n",
      "  super()._check_params_vs_input(X, default_n_init=10)\n"
     ]
    },
    {
     "name": "stdout",
     "output_type": "stream",
     "text": [
      "coasted 0:04:14.777885\n",
      "data processing\n"
     ]
    },
    {
     "name": "stderr",
     "output_type": "stream",
     "text": [
      "/tmp/ipykernel_2221566/2492021236.py:12: RuntimeWarning: invalid value encountered in sqrt\n",
      "  cos = abs((1 - (r/rsun)**2)**0.5)\n"
     ]
    },
    {
     "name": "stdout",
     "output_type": "stream",
     "text": [
      "file done\n"
     ]
    },
    {
     "name": "stderr",
     "output_type": "stream",
     "text": [
      "/home/aiia/newDisk/anaconda3/envs/zz_pytorch/lib/python3.9/site-packages/sklearn/cluster/_kmeans.py:1412: FutureWarning: The default value of `n_init` will change from 10 to 'auto' in 1.4. Set the value of `n_init` explicitly to suppress the warning\n",
      "  super()._check_params_vs_input(X, default_n_init=10)\n"
     ]
    },
    {
     "name": "stdout",
     "output_type": "stream",
     "text": [
      "coasted 0:04:17.802013\n",
      "data processing\n"
     ]
    },
    {
     "name": "stderr",
     "output_type": "stream",
     "text": [
      "/tmp/ipykernel_2221566/2492021236.py:12: RuntimeWarning: invalid value encountered in sqrt\n",
      "  cos = abs((1 - (r/rsun)**2)**0.5)\n"
     ]
    },
    {
     "name": "stdout",
     "output_type": "stream",
     "text": [
      "file done\n"
     ]
    },
    {
     "name": "stderr",
     "output_type": "stream",
     "text": [
      "/home/aiia/newDisk/anaconda3/envs/zz_pytorch/lib/python3.9/site-packages/sklearn/cluster/_kmeans.py:1412: FutureWarning: The default value of `n_init` will change from 10 to 'auto' in 1.4. Set the value of `n_init` explicitly to suppress the warning\n",
      "  super()._check_params_vs_input(X, default_n_init=10)\n"
     ]
    },
    {
     "name": "stdout",
     "output_type": "stream",
     "text": [
      "coasted 0:04:58.879710\n",
      "data processing\n"
     ]
    },
    {
     "name": "stderr",
     "output_type": "stream",
     "text": [
      "/tmp/ipykernel_2221566/2492021236.py:12: RuntimeWarning: invalid value encountered in sqrt\n",
      "  cos = abs((1 - (r/rsun)**2)**0.5)\n"
     ]
    },
    {
     "name": "stdout",
     "output_type": "stream",
     "text": [
      "file done\n"
     ]
    },
    {
     "name": "stderr",
     "output_type": "stream",
     "text": [
      "/home/aiia/newDisk/anaconda3/envs/zz_pytorch/lib/python3.9/site-packages/sklearn/cluster/_kmeans.py:1412: FutureWarning: The default value of `n_init` will change from 10 to 'auto' in 1.4. Set the value of `n_init` explicitly to suppress the warning\n",
      "  super()._check_params_vs_input(X, default_n_init=10)\n"
     ]
    },
    {
     "name": "stdout",
     "output_type": "stream",
     "text": [
      "coasted 0:04:25.932415\n",
      "data processing\n"
     ]
    },
    {
     "name": "stderr",
     "output_type": "stream",
     "text": [
      "/tmp/ipykernel_2221566/2492021236.py:12: RuntimeWarning: invalid value encountered in sqrt\n",
      "  cos = abs((1 - (r/rsun)**2)**0.5)\n"
     ]
    },
    {
     "name": "stdout",
     "output_type": "stream",
     "text": [
      "file done\n"
     ]
    },
    {
     "name": "stderr",
     "output_type": "stream",
     "text": [
      "/home/aiia/newDisk/anaconda3/envs/zz_pytorch/lib/python3.9/site-packages/sklearn/cluster/_kmeans.py:1412: FutureWarning: The default value of `n_init` will change from 10 to 'auto' in 1.4. Set the value of `n_init` explicitly to suppress the warning\n",
      "  super()._check_params_vs_input(X, default_n_init=10)\n"
     ]
    },
    {
     "name": "stdout",
     "output_type": "stream",
     "text": [
      "coasted 0:04:20.748615\n",
      "data processing\n"
     ]
    },
    {
     "name": "stderr",
     "output_type": "stream",
     "text": [
      "/tmp/ipykernel_2221566/2492021236.py:12: RuntimeWarning: invalid value encountered in sqrt\n",
      "  cos = abs((1 - (r/rsun)**2)**0.5)\n"
     ]
    },
    {
     "name": "stdout",
     "output_type": "stream",
     "text": [
      "file done\n"
     ]
    },
    {
     "name": "stderr",
     "output_type": "stream",
     "text": [
      "/home/aiia/newDisk/anaconda3/envs/zz_pytorch/lib/python3.9/site-packages/sklearn/cluster/_kmeans.py:1412: FutureWarning: The default value of `n_init` will change from 10 to 'auto' in 1.4. Set the value of `n_init` explicitly to suppress the warning\n",
      "  super()._check_params_vs_input(X, default_n_init=10)\n"
     ]
    },
    {
     "name": "stdout",
     "output_type": "stream",
     "text": [
      "coasted 0:04:29.204601\n",
      "data processing\n"
     ]
    },
    {
     "name": "stderr",
     "output_type": "stream",
     "text": [
      "/tmp/ipykernel_2221566/2492021236.py:12: RuntimeWarning: invalid value encountered in sqrt\n",
      "  cos = abs((1 - (r/rsun)**2)**0.5)\n"
     ]
    },
    {
     "name": "stdout",
     "output_type": "stream",
     "text": [
      "file done\n"
     ]
    },
    {
     "name": "stderr",
     "output_type": "stream",
     "text": [
      "/home/aiia/newDisk/anaconda3/envs/zz_pytorch/lib/python3.9/site-packages/sklearn/cluster/_kmeans.py:1412: FutureWarning: The default value of `n_init` will change from 10 to 'auto' in 1.4. Set the value of `n_init` explicitly to suppress the warning\n",
      "  super()._check_params_vs_input(X, default_n_init=10)\n"
     ]
    },
    {
     "name": "stdout",
     "output_type": "stream",
     "text": [
      "coasted 0:04:19.678425\n",
      "data processing\n"
     ]
    },
    {
     "name": "stderr",
     "output_type": "stream",
     "text": [
      "/tmp/ipykernel_2221566/2492021236.py:12: RuntimeWarning: invalid value encountered in sqrt\n",
      "  cos = abs((1 - (r/rsun)**2)**0.5)\n"
     ]
    },
    {
     "name": "stdout",
     "output_type": "stream",
     "text": [
      "file done\n"
     ]
    },
    {
     "name": "stderr",
     "output_type": "stream",
     "text": [
      "/home/aiia/newDisk/anaconda3/envs/zz_pytorch/lib/python3.9/site-packages/sklearn/cluster/_kmeans.py:1412: FutureWarning: The default value of `n_init` will change from 10 to 'auto' in 1.4. Set the value of `n_init` explicitly to suppress the warning\n",
      "  super()._check_params_vs_input(X, default_n_init=10)\n"
     ]
    },
    {
     "name": "stdout",
     "output_type": "stream",
     "text": [
      "coasted 0:05:47.249834\n",
      "data processing\n"
     ]
    },
    {
     "name": "stderr",
     "output_type": "stream",
     "text": [
      "/tmp/ipykernel_2221566/2492021236.py:12: RuntimeWarning: invalid value encountered in sqrt\n",
      "  cos = abs((1 - (r/rsun)**2)**0.5)\n"
     ]
    },
    {
     "name": "stdout",
     "output_type": "stream",
     "text": [
      "file done\n"
     ]
    },
    {
     "name": "stderr",
     "output_type": "stream",
     "text": [
      "/home/aiia/newDisk/anaconda3/envs/zz_pytorch/lib/python3.9/site-packages/sklearn/cluster/_kmeans.py:1412: FutureWarning: The default value of `n_init` will change from 10 to 'auto' in 1.4. Set the value of `n_init` explicitly to suppress the warning\n",
      "  super()._check_params_vs_input(X, default_n_init=10)\n"
     ]
    },
    {
     "name": "stdout",
     "output_type": "stream",
     "text": [
      "coasted 0:05:38.170404\n",
      "data processing\n"
     ]
    },
    {
     "name": "stderr",
     "output_type": "stream",
     "text": [
      "/tmp/ipykernel_2221566/2492021236.py:12: RuntimeWarning: invalid value encountered in sqrt\n",
      "  cos = abs((1 - (r/rsun)**2)**0.5)\n"
     ]
    },
    {
     "name": "stdout",
     "output_type": "stream",
     "text": [
      "file done\n"
     ]
    },
    {
     "name": "stderr",
     "output_type": "stream",
     "text": [
      "/home/aiia/newDisk/anaconda3/envs/zz_pytorch/lib/python3.9/site-packages/sklearn/cluster/_kmeans.py:1412: FutureWarning: The default value of `n_init` will change from 10 to 'auto' in 1.4. Set the value of `n_init` explicitly to suppress the warning\n",
      "  super()._check_params_vs_input(X, default_n_init=10)\n"
     ]
    },
    {
     "name": "stdout",
     "output_type": "stream",
     "text": [
      "coasted 0:04:23.252135\n",
      "data processing\n"
     ]
    },
    {
     "name": "stderr",
     "output_type": "stream",
     "text": [
      "/tmp/ipykernel_2221566/2492021236.py:12: RuntimeWarning: invalid value encountered in sqrt\n",
      "  cos = abs((1 - (r/rsun)**2)**0.5)\n"
     ]
    },
    {
     "name": "stdout",
     "output_type": "stream",
     "text": [
      "file done\n"
     ]
    },
    {
     "name": "stderr",
     "output_type": "stream",
     "text": [
      "/home/aiia/newDisk/anaconda3/envs/zz_pytorch/lib/python3.9/site-packages/sklearn/cluster/_kmeans.py:1412: FutureWarning: The default value of `n_init` will change from 10 to 'auto' in 1.4. Set the value of `n_init` explicitly to suppress the warning\n",
      "  super()._check_params_vs_input(X, default_n_init=10)\n"
     ]
    },
    {
     "name": "stdout",
     "output_type": "stream",
     "text": [
      "coasted 0:04:25.154597\n",
      "data processing\n"
     ]
    },
    {
     "name": "stderr",
     "output_type": "stream",
     "text": [
      "/tmp/ipykernel_2221566/2492021236.py:12: RuntimeWarning: invalid value encountered in sqrt\n",
      "  cos = abs((1 - (r/rsun)**2)**0.5)\n"
     ]
    },
    {
     "name": "stdout",
     "output_type": "stream",
     "text": [
      "file done\n"
     ]
    },
    {
     "name": "stderr",
     "output_type": "stream",
     "text": [
      "/home/aiia/newDisk/anaconda3/envs/zz_pytorch/lib/python3.9/site-packages/sklearn/cluster/_kmeans.py:1412: FutureWarning: The default value of `n_init` will change from 10 to 'auto' in 1.4. Set the value of `n_init` explicitly to suppress the warning\n",
      "  super()._check_params_vs_input(X, default_n_init=10)\n"
     ]
    },
    {
     "name": "stdout",
     "output_type": "stream",
     "text": [
      "coasted 0:04:13.018318\n",
      "data processing\n"
     ]
    },
    {
     "name": "stderr",
     "output_type": "stream",
     "text": [
      "/tmp/ipykernel_2221566/2492021236.py:12: RuntimeWarning: invalid value encountered in sqrt\n",
      "  cos = abs((1 - (r/rsun)**2)**0.5)\n"
     ]
    },
    {
     "name": "stdout",
     "output_type": "stream",
     "text": [
      "file done\n"
     ]
    },
    {
     "name": "stderr",
     "output_type": "stream",
     "text": [
      "/home/aiia/newDisk/anaconda3/envs/zz_pytorch/lib/python3.9/site-packages/sklearn/cluster/_kmeans.py:1412: FutureWarning: The default value of `n_init` will change from 10 to 'auto' in 1.4. Set the value of `n_init` explicitly to suppress the warning\n",
      "  super()._check_params_vs_input(X, default_n_init=10)\n"
     ]
    },
    {
     "name": "stdout",
     "output_type": "stream",
     "text": [
      "coasted 0:04:12.589448\n",
      "data processing\n"
     ]
    },
    {
     "name": "stderr",
     "output_type": "stream",
     "text": [
      "/tmp/ipykernel_2221566/2492021236.py:12: RuntimeWarning: invalid value encountered in sqrt\n",
      "  cos = abs((1 - (r/rsun)**2)**0.5)\n"
     ]
    },
    {
     "name": "stdout",
     "output_type": "stream",
     "text": [
      "file done\n"
     ]
    },
    {
     "name": "stderr",
     "output_type": "stream",
     "text": [
      "/home/aiia/newDisk/anaconda3/envs/zz_pytorch/lib/python3.9/site-packages/sklearn/cluster/_kmeans.py:1412: FutureWarning: The default value of `n_init` will change from 10 to 'auto' in 1.4. Set the value of `n_init` explicitly to suppress the warning\n",
      "  super()._check_params_vs_input(X, default_n_init=10)\n"
     ]
    },
    {
     "name": "stdout",
     "output_type": "stream",
     "text": [
      "coasted 0:04:30.375693\n",
      "data processing\n"
     ]
    },
    {
     "name": "stderr",
     "output_type": "stream",
     "text": [
      "/tmp/ipykernel_2221566/2492021236.py:12: RuntimeWarning: invalid value encountered in sqrt\n",
      "  cos = abs((1 - (r/rsun)**2)**0.5)\n"
     ]
    },
    {
     "name": "stdout",
     "output_type": "stream",
     "text": [
      "file done\n"
     ]
    },
    {
     "name": "stderr",
     "output_type": "stream",
     "text": [
      "/home/aiia/newDisk/anaconda3/envs/zz_pytorch/lib/python3.9/site-packages/sklearn/cluster/_kmeans.py:1412: FutureWarning: The default value of `n_init` will change from 10 to 'auto' in 1.4. Set the value of `n_init` explicitly to suppress the warning\n",
      "  super()._check_params_vs_input(X, default_n_init=10)\n"
     ]
    },
    {
     "name": "stdout",
     "output_type": "stream",
     "text": [
      "coasted 0:04:35.035021\n",
      "data processing\n"
     ]
    },
    {
     "name": "stderr",
     "output_type": "stream",
     "text": [
      "/tmp/ipykernel_2221566/2492021236.py:12: RuntimeWarning: invalid value encountered in sqrt\n",
      "  cos = abs((1 - (r/rsun)**2)**0.5)\n"
     ]
    },
    {
     "name": "stdout",
     "output_type": "stream",
     "text": [
      "file done\n"
     ]
    },
    {
     "name": "stderr",
     "output_type": "stream",
     "text": [
      "/home/aiia/newDisk/anaconda3/envs/zz_pytorch/lib/python3.9/site-packages/sklearn/cluster/_kmeans.py:1412: FutureWarning: The default value of `n_init` will change from 10 to 'auto' in 1.4. Set the value of `n_init` explicitly to suppress the warning\n",
      "  super()._check_params_vs_input(X, default_n_init=10)\n"
     ]
    },
    {
     "name": "stdout",
     "output_type": "stream",
     "text": [
      "coasted 0:04:29.336850\n",
      "data processing\n"
     ]
    },
    {
     "name": "stderr",
     "output_type": "stream",
     "text": [
      "/tmp/ipykernel_2221566/2492021236.py:12: RuntimeWarning: invalid value encountered in sqrt\n",
      "  cos = abs((1 - (r/rsun)**2)**0.5)\n"
     ]
    },
    {
     "name": "stdout",
     "output_type": "stream",
     "text": [
      "file done\n"
     ]
    },
    {
     "name": "stderr",
     "output_type": "stream",
     "text": [
      "/home/aiia/newDisk/anaconda3/envs/zz_pytorch/lib/python3.9/site-packages/sklearn/cluster/_kmeans.py:1412: FutureWarning: The default value of `n_init` will change from 10 to 'auto' in 1.4. Set the value of `n_init` explicitly to suppress the warning\n",
      "  super()._check_params_vs_input(X, default_n_init=10)\n"
     ]
    },
    {
     "name": "stdout",
     "output_type": "stream",
     "text": [
      "coasted 0:04:48.831866\n",
      "data processing\n"
     ]
    },
    {
     "name": "stderr",
     "output_type": "stream",
     "text": [
      "/tmp/ipykernel_2221566/2492021236.py:12: RuntimeWarning: invalid value encountered in sqrt\n",
      "  cos = abs((1 - (r/rsun)**2)**0.5)\n"
     ]
    },
    {
     "name": "stdout",
     "output_type": "stream",
     "text": [
      "file done\n"
     ]
    },
    {
     "name": "stderr",
     "output_type": "stream",
     "text": [
      "/home/aiia/newDisk/anaconda3/envs/zz_pytorch/lib/python3.9/site-packages/sklearn/cluster/_kmeans.py:1412: FutureWarning: The default value of `n_init` will change from 10 to 'auto' in 1.4. Set the value of `n_init` explicitly to suppress the warning\n",
      "  super()._check_params_vs_input(X, default_n_init=10)\n"
     ]
    },
    {
     "name": "stdout",
     "output_type": "stream",
     "text": [
      "coasted 0:04:28.928582\n",
      "data processing\n"
     ]
    },
    {
     "name": "stderr",
     "output_type": "stream",
     "text": [
      "/tmp/ipykernel_2221566/2492021236.py:12: RuntimeWarning: invalid value encountered in sqrt\n",
      "  cos = abs((1 - (r/rsun)**2)**0.5)\n"
     ]
    },
    {
     "name": "stdout",
     "output_type": "stream",
     "text": [
      "file done\n"
     ]
    },
    {
     "name": "stderr",
     "output_type": "stream",
     "text": [
      "/home/aiia/newDisk/anaconda3/envs/zz_pytorch/lib/python3.9/site-packages/sklearn/cluster/_kmeans.py:1412: FutureWarning: The default value of `n_init` will change from 10 to 'auto' in 1.4. Set the value of `n_init` explicitly to suppress the warning\n",
      "  super()._check_params_vs_input(X, default_n_init=10)\n"
     ]
    },
    {
     "name": "stdout",
     "output_type": "stream",
     "text": [
      "coasted 0:04:02.207642\n",
      "data processing\n"
     ]
    },
    {
     "name": "stderr",
     "output_type": "stream",
     "text": [
      "/tmp/ipykernel_2221566/2492021236.py:12: RuntimeWarning: invalid value encountered in sqrt\n",
      "  cos = abs((1 - (r/rsun)**2)**0.5)\n"
     ]
    },
    {
     "name": "stdout",
     "output_type": "stream",
     "text": [
      "file done\n"
     ]
    },
    {
     "name": "stderr",
     "output_type": "stream",
     "text": [
      "/home/aiia/newDisk/anaconda3/envs/zz_pytorch/lib/python3.9/site-packages/sklearn/cluster/_kmeans.py:1412: FutureWarning: The default value of `n_init` will change from 10 to 'auto' in 1.4. Set the value of `n_init` explicitly to suppress the warning\n",
      "  super()._check_params_vs_input(X, default_n_init=10)\n"
     ]
    },
    {
     "name": "stdout",
     "output_type": "stream",
     "text": [
      "coasted 0:03:59.562563\n",
      "data processing\n"
     ]
    },
    {
     "name": "stderr",
     "output_type": "stream",
     "text": [
      "/tmp/ipykernel_2221566/2492021236.py:12: RuntimeWarning: invalid value encountered in sqrt\n",
      "  cos = abs((1 - (r/rsun)**2)**0.5)\n"
     ]
    },
    {
     "name": "stdout",
     "output_type": "stream",
     "text": [
      "file done\n"
     ]
    },
    {
     "name": "stderr",
     "output_type": "stream",
     "text": [
      "/home/aiia/newDisk/anaconda3/envs/zz_pytorch/lib/python3.9/site-packages/sklearn/cluster/_kmeans.py:1412: FutureWarning: The default value of `n_init` will change from 10 to 'auto' in 1.4. Set the value of `n_init` explicitly to suppress the warning\n",
      "  super()._check_params_vs_input(X, default_n_init=10)\n"
     ]
    },
    {
     "name": "stdout",
     "output_type": "stream",
     "text": [
      "coasted 0:03:46.617420\n",
      "data processing\n"
     ]
    },
    {
     "name": "stderr",
     "output_type": "stream",
     "text": [
      "/tmp/ipykernel_2221566/2492021236.py:12: RuntimeWarning: invalid value encountered in sqrt\n",
      "  cos = abs((1 - (r/rsun)**2)**0.5)\n"
     ]
    },
    {
     "name": "stdout",
     "output_type": "stream",
     "text": [
      "file done\n"
     ]
    },
    {
     "name": "stderr",
     "output_type": "stream",
     "text": [
      "/home/aiia/newDisk/anaconda3/envs/zz_pytorch/lib/python3.9/site-packages/sklearn/cluster/_kmeans.py:1412: FutureWarning: The default value of `n_init` will change from 10 to 'auto' in 1.4. Set the value of `n_init` explicitly to suppress the warning\n",
      "  super()._check_params_vs_input(X, default_n_init=10)\n"
     ]
    },
    {
     "name": "stdout",
     "output_type": "stream",
     "text": [
      "coasted 0:04:04.580159\n",
      "data processing\n"
     ]
    },
    {
     "name": "stderr",
     "output_type": "stream",
     "text": [
      "/tmp/ipykernel_2221566/2492021236.py:12: RuntimeWarning: invalid value encountered in sqrt\n",
      "  cos = abs((1 - (r/rsun)**2)**0.5)\n"
     ]
    },
    {
     "name": "stdout",
     "output_type": "stream",
     "text": [
      "file done\n"
     ]
    },
    {
     "name": "stderr",
     "output_type": "stream",
     "text": [
      "/home/aiia/newDisk/anaconda3/envs/zz_pytorch/lib/python3.9/site-packages/sklearn/cluster/_kmeans.py:1412: FutureWarning: The default value of `n_init` will change from 10 to 'auto' in 1.4. Set the value of `n_init` explicitly to suppress the warning\n",
      "  super()._check_params_vs_input(X, default_n_init=10)\n"
     ]
    },
    {
     "name": "stdout",
     "output_type": "stream",
     "text": [
      "coasted 0:04:14.324176\n",
      "data processing\n"
     ]
    },
    {
     "name": "stderr",
     "output_type": "stream",
     "text": [
      "/tmp/ipykernel_2221566/2492021236.py:12: RuntimeWarning: invalid value encountered in sqrt\n",
      "  cos = abs((1 - (r/rsun)**2)**0.5)\n"
     ]
    },
    {
     "name": "stdout",
     "output_type": "stream",
     "text": [
      "file done\n"
     ]
    },
    {
     "name": "stderr",
     "output_type": "stream",
     "text": [
      "/home/aiia/newDisk/anaconda3/envs/zz_pytorch/lib/python3.9/site-packages/sklearn/cluster/_kmeans.py:1412: FutureWarning: The default value of `n_init` will change from 10 to 'auto' in 1.4. Set the value of `n_init` explicitly to suppress the warning\n",
      "  super()._check_params_vs_input(X, default_n_init=10)\n"
     ]
    },
    {
     "name": "stdout",
     "output_type": "stream",
     "text": [
      "coasted 0:03:45.084229\n",
      "data processing\n"
     ]
    },
    {
     "name": "stderr",
     "output_type": "stream",
     "text": [
      "/tmp/ipykernel_2221566/2492021236.py:12: RuntimeWarning: invalid value encountered in sqrt\n",
      "  cos = abs((1 - (r/rsun)**2)**0.5)\n"
     ]
    },
    {
     "name": "stdout",
     "output_type": "stream",
     "text": [
      "file done\n"
     ]
    },
    {
     "name": "stderr",
     "output_type": "stream",
     "text": [
      "/home/aiia/newDisk/anaconda3/envs/zz_pytorch/lib/python3.9/site-packages/sklearn/cluster/_kmeans.py:1412: FutureWarning: The default value of `n_init` will change from 10 to 'auto' in 1.4. Set the value of `n_init` explicitly to suppress the warning\n",
      "  super()._check_params_vs_input(X, default_n_init=10)\n"
     ]
    },
    {
     "name": "stdout",
     "output_type": "stream",
     "text": [
      "coasted 0:03:43.901527\n",
      "data processing\n"
     ]
    },
    {
     "name": "stderr",
     "output_type": "stream",
     "text": [
      "/tmp/ipykernel_2221566/2492021236.py:12: RuntimeWarning: invalid value encountered in sqrt\n",
      "  cos = abs((1 - (r/rsun)**2)**0.5)\n"
     ]
    },
    {
     "name": "stdout",
     "output_type": "stream",
     "text": [
      "file done\n"
     ]
    },
    {
     "name": "stderr",
     "output_type": "stream",
     "text": [
      "/home/aiia/newDisk/anaconda3/envs/zz_pytorch/lib/python3.9/site-packages/sklearn/cluster/_kmeans.py:1412: FutureWarning: The default value of `n_init` will change from 10 to 'auto' in 1.4. Set the value of `n_init` explicitly to suppress the warning\n",
      "  super()._check_params_vs_input(X, default_n_init=10)\n"
     ]
    },
    {
     "name": "stdout",
     "output_type": "stream",
     "text": [
      "coasted 0:03:39.561815\n",
      "data processing\n"
     ]
    },
    {
     "name": "stderr",
     "output_type": "stream",
     "text": [
      "/tmp/ipykernel_2221566/2492021236.py:12: RuntimeWarning: invalid value encountered in sqrt\n",
      "  cos = abs((1 - (r/rsun)**2)**0.5)\n"
     ]
    },
    {
     "name": "stdout",
     "output_type": "stream",
     "text": [
      "file done\n"
     ]
    },
    {
     "name": "stderr",
     "output_type": "stream",
     "text": [
      "/home/aiia/newDisk/anaconda3/envs/zz_pytorch/lib/python3.9/site-packages/sklearn/cluster/_kmeans.py:1412: FutureWarning: The default value of `n_init` will change from 10 to 'auto' in 1.4. Set the value of `n_init` explicitly to suppress the warning\n",
      "  super()._check_params_vs_input(X, default_n_init=10)\n"
     ]
    },
    {
     "name": "stdout",
     "output_type": "stream",
     "text": [
      "coasted 0:04:02.888681\n",
      "data processing\n"
     ]
    },
    {
     "name": "stderr",
     "output_type": "stream",
     "text": [
      "/tmp/ipykernel_2221566/2492021236.py:12: RuntimeWarning: invalid value encountered in sqrt\n",
      "  cos = abs((1 - (r/rsun)**2)**0.5)\n"
     ]
    },
    {
     "name": "stdout",
     "output_type": "stream",
     "text": [
      "file done\n"
     ]
    },
    {
     "name": "stderr",
     "output_type": "stream",
     "text": [
      "/home/aiia/newDisk/anaconda3/envs/zz_pytorch/lib/python3.9/site-packages/sklearn/cluster/_kmeans.py:1412: FutureWarning: The default value of `n_init` will change from 10 to 'auto' in 1.4. Set the value of `n_init` explicitly to suppress the warning\n",
      "  super()._check_params_vs_input(X, default_n_init=10)\n"
     ]
    },
    {
     "name": "stdout",
     "output_type": "stream",
     "text": [
      "coasted 0:03:58.182670\n",
      "data processing\n"
     ]
    },
    {
     "name": "stderr",
     "output_type": "stream",
     "text": [
      "/tmp/ipykernel_2221566/2492021236.py:12: RuntimeWarning: invalid value encountered in sqrt\n",
      "  cos = abs((1 - (r/rsun)**2)**0.5)\n"
     ]
    },
    {
     "name": "stdout",
     "output_type": "stream",
     "text": [
      "file done\n"
     ]
    },
    {
     "name": "stderr",
     "output_type": "stream",
     "text": [
      "/home/aiia/newDisk/anaconda3/envs/zz_pytorch/lib/python3.9/site-packages/sklearn/cluster/_kmeans.py:1412: FutureWarning: The default value of `n_init` will change from 10 to 'auto' in 1.4. Set the value of `n_init` explicitly to suppress the warning\n",
      "  super()._check_params_vs_input(X, default_n_init=10)\n"
     ]
    },
    {
     "name": "stdout",
     "output_type": "stream",
     "text": [
      "coasted 0:03:51.877935\n",
      "data processing\n"
     ]
    },
    {
     "name": "stderr",
     "output_type": "stream",
     "text": [
      "/tmp/ipykernel_2221566/2492021236.py:12: RuntimeWarning: invalid value encountered in sqrt\n",
      "  cos = abs((1 - (r/rsun)**2)**0.5)\n"
     ]
    },
    {
     "name": "stdout",
     "output_type": "stream",
     "text": [
      "file done\n"
     ]
    },
    {
     "name": "stderr",
     "output_type": "stream",
     "text": [
      "/home/aiia/newDisk/anaconda3/envs/zz_pytorch/lib/python3.9/site-packages/sklearn/cluster/_kmeans.py:1412: FutureWarning: The default value of `n_init` will change from 10 to 'auto' in 1.4. Set the value of `n_init` explicitly to suppress the warning\n",
      "  super()._check_params_vs_input(X, default_n_init=10)\n"
     ]
    },
    {
     "name": "stdout",
     "output_type": "stream",
     "text": [
      "coasted 0:03:48.062378\n",
      "data processing\n"
     ]
    },
    {
     "name": "stderr",
     "output_type": "stream",
     "text": [
      "/tmp/ipykernel_2221566/2492021236.py:12: RuntimeWarning: invalid value encountered in sqrt\n",
      "  cos = abs((1 - (r/rsun)**2)**0.5)\n"
     ]
    },
    {
     "name": "stdout",
     "output_type": "stream",
     "text": [
      "file done\n"
     ]
    },
    {
     "name": "stderr",
     "output_type": "stream",
     "text": [
      "/home/aiia/newDisk/anaconda3/envs/zz_pytorch/lib/python3.9/site-packages/sklearn/cluster/_kmeans.py:1412: FutureWarning: The default value of `n_init` will change from 10 to 'auto' in 1.4. Set the value of `n_init` explicitly to suppress the warning\n",
      "  super()._check_params_vs_input(X, default_n_init=10)\n"
     ]
    },
    {
     "name": "stdout",
     "output_type": "stream",
     "text": [
      "coasted 0:04:28.684561\n",
      "data processing\n"
     ]
    },
    {
     "name": "stderr",
     "output_type": "stream",
     "text": [
      "/tmp/ipykernel_2221566/2492021236.py:12: RuntimeWarning: invalid value encountered in sqrt\n",
      "  cos = abs((1 - (r/rsun)**2)**0.5)\n"
     ]
    },
    {
     "name": "stdout",
     "output_type": "stream",
     "text": [
      "file done\n"
     ]
    },
    {
     "name": "stderr",
     "output_type": "stream",
     "text": [
      "/home/aiia/newDisk/anaconda3/envs/zz_pytorch/lib/python3.9/site-packages/sklearn/cluster/_kmeans.py:1412: FutureWarning: The default value of `n_init` will change from 10 to 'auto' in 1.4. Set the value of `n_init` explicitly to suppress the warning\n",
      "  super()._check_params_vs_input(X, default_n_init=10)\n"
     ]
    },
    {
     "name": "stdout",
     "output_type": "stream",
     "text": [
      "coasted 0:04:25.781499\n",
      "data processing\n"
     ]
    },
    {
     "name": "stderr",
     "output_type": "stream",
     "text": [
      "/tmp/ipykernel_2221566/2492021236.py:12: RuntimeWarning: invalid value encountered in sqrt\n",
      "  cos = abs((1 - (r/rsun)**2)**0.5)\n"
     ]
    },
    {
     "name": "stdout",
     "output_type": "stream",
     "text": [
      "file done\n"
     ]
    },
    {
     "name": "stderr",
     "output_type": "stream",
     "text": [
      "/home/aiia/newDisk/anaconda3/envs/zz_pytorch/lib/python3.9/site-packages/sklearn/cluster/_kmeans.py:1412: FutureWarning: The default value of `n_init` will change from 10 to 'auto' in 1.4. Set the value of `n_init` explicitly to suppress the warning\n",
      "  super()._check_params_vs_input(X, default_n_init=10)\n"
     ]
    },
    {
     "name": "stdout",
     "output_type": "stream",
     "text": [
      "coasted 0:04:36.440168\n",
      "data processing\n"
     ]
    },
    {
     "name": "stderr",
     "output_type": "stream",
     "text": [
      "/tmp/ipykernel_2221566/2492021236.py:12: RuntimeWarning: invalid value encountered in sqrt\n",
      "  cos = abs((1 - (r/rsun)**2)**0.5)\n"
     ]
    },
    {
     "name": "stdout",
     "output_type": "stream",
     "text": [
      "file done\n"
     ]
    },
    {
     "name": "stderr",
     "output_type": "stream",
     "text": [
      "/home/aiia/newDisk/anaconda3/envs/zz_pytorch/lib/python3.9/site-packages/sklearn/cluster/_kmeans.py:1412: FutureWarning: The default value of `n_init` will change from 10 to 'auto' in 1.4. Set the value of `n_init` explicitly to suppress the warning\n",
      "  super()._check_params_vs_input(X, default_n_init=10)\n"
     ]
    },
    {
     "name": "stdout",
     "output_type": "stream",
     "text": [
      "coasted 0:04:40.712504\n",
      "data processing\n"
     ]
    },
    {
     "name": "stderr",
     "output_type": "stream",
     "text": [
      "/tmp/ipykernel_2221566/2492021236.py:12: RuntimeWarning: invalid value encountered in sqrt\n",
      "  cos = abs((1 - (r/rsun)**2)**0.5)\n"
     ]
    },
    {
     "name": "stdout",
     "output_type": "stream",
     "text": [
      "file done\n"
     ]
    },
    {
     "name": "stderr",
     "output_type": "stream",
     "text": [
      "/home/aiia/newDisk/anaconda3/envs/zz_pytorch/lib/python3.9/site-packages/sklearn/cluster/_kmeans.py:1412: FutureWarning: The default value of `n_init` will change from 10 to 'auto' in 1.4. Set the value of `n_init` explicitly to suppress the warning\n",
      "  super()._check_params_vs_input(X, default_n_init=10)\n"
     ]
    },
    {
     "name": "stdout",
     "output_type": "stream",
     "text": [
      "coasted 0:04:26.603631\n",
      "data processing\n"
     ]
    },
    {
     "name": "stderr",
     "output_type": "stream",
     "text": [
      "/tmp/ipykernel_2221566/2492021236.py:12: RuntimeWarning: invalid value encountered in sqrt\n",
      "  cos = abs((1 - (r/rsun)**2)**0.5)\n"
     ]
    },
    {
     "name": "stdout",
     "output_type": "stream",
     "text": [
      "file done\n"
     ]
    },
    {
     "name": "stderr",
     "output_type": "stream",
     "text": [
      "/home/aiia/newDisk/anaconda3/envs/zz_pytorch/lib/python3.9/site-packages/sklearn/cluster/_kmeans.py:1412: FutureWarning: The default value of `n_init` will change from 10 to 'auto' in 1.4. Set the value of `n_init` explicitly to suppress the warning\n",
      "  super()._check_params_vs_input(X, default_n_init=10)\n"
     ]
    },
    {
     "name": "stdout",
     "output_type": "stream",
     "text": [
      "coasted 0:04:12.413786\n",
      "data processing\n"
     ]
    },
    {
     "name": "stderr",
     "output_type": "stream",
     "text": [
      "/tmp/ipykernel_2221566/2492021236.py:12: RuntimeWarning: invalid value encountered in sqrt\n",
      "  cos = abs((1 - (r/rsun)**2)**0.5)\n"
     ]
    },
    {
     "name": "stdout",
     "output_type": "stream",
     "text": [
      "file done\n"
     ]
    },
    {
     "name": "stderr",
     "output_type": "stream",
     "text": [
      "/home/aiia/newDisk/anaconda3/envs/zz_pytorch/lib/python3.9/site-packages/sklearn/cluster/_kmeans.py:1412: FutureWarning: The default value of `n_init` will change from 10 to 'auto' in 1.4. Set the value of `n_init` explicitly to suppress the warning\n",
      "  super()._check_params_vs_input(X, default_n_init=10)\n"
     ]
    },
    {
     "name": "stdout",
     "output_type": "stream",
     "text": [
      "coasted 0:04:46.713318\n",
      "data processing\n"
     ]
    },
    {
     "name": "stderr",
     "output_type": "stream",
     "text": [
      "/tmp/ipykernel_2221566/2492021236.py:12: RuntimeWarning: invalid value encountered in sqrt\n",
      "  cos = abs((1 - (r/rsun)**2)**0.5)\n"
     ]
    },
    {
     "name": "stdout",
     "output_type": "stream",
     "text": [
      "file done\n"
     ]
    },
    {
     "name": "stderr",
     "output_type": "stream",
     "text": [
      "/home/aiia/newDisk/anaconda3/envs/zz_pytorch/lib/python3.9/site-packages/sklearn/cluster/_kmeans.py:1412: FutureWarning: The default value of `n_init` will change from 10 to 'auto' in 1.4. Set the value of `n_init` explicitly to suppress the warning\n",
      "  super()._check_params_vs_input(X, default_n_init=10)\n"
     ]
    },
    {
     "name": "stdout",
     "output_type": "stream",
     "text": [
      "coasted 0:04:30.477498\n",
      "data processing\n"
     ]
    },
    {
     "name": "stderr",
     "output_type": "stream",
     "text": [
      "/tmp/ipykernel_2221566/2492021236.py:12: RuntimeWarning: invalid value encountered in sqrt\n",
      "  cos = abs((1 - (r/rsun)**2)**0.5)\n"
     ]
    },
    {
     "name": "stdout",
     "output_type": "stream",
     "text": [
      "file done\n"
     ]
    },
    {
     "name": "stderr",
     "output_type": "stream",
     "text": [
      "/home/aiia/newDisk/anaconda3/envs/zz_pytorch/lib/python3.9/site-packages/sklearn/cluster/_kmeans.py:1412: FutureWarning: The default value of `n_init` will change from 10 to 'auto' in 1.4. Set the value of `n_init` explicitly to suppress the warning\n",
      "  super()._check_params_vs_input(X, default_n_init=10)\n"
     ]
    },
    {
     "name": "stdout",
     "output_type": "stream",
     "text": [
      "coasted 0:04:11.152499\n",
      "data processing\n"
     ]
    },
    {
     "name": "stderr",
     "output_type": "stream",
     "text": [
      "/tmp/ipykernel_2221566/2492021236.py:12: RuntimeWarning: invalid value encountered in sqrt\n",
      "  cos = abs((1 - (r/rsun)**2)**0.5)\n"
     ]
    },
    {
     "name": "stdout",
     "output_type": "stream",
     "text": [
      "file done\n"
     ]
    },
    {
     "name": "stderr",
     "output_type": "stream",
     "text": [
      "/home/aiia/newDisk/anaconda3/envs/zz_pytorch/lib/python3.9/site-packages/sklearn/cluster/_kmeans.py:1412: FutureWarning: The default value of `n_init` will change from 10 to 'auto' in 1.4. Set the value of `n_init` explicitly to suppress the warning\n",
      "  super()._check_params_vs_input(X, default_n_init=10)\n"
     ]
    },
    {
     "name": "stdout",
     "output_type": "stream",
     "text": [
      "coasted 0:03:53.094339\n",
      "data processing\n"
     ]
    },
    {
     "name": "stderr",
     "output_type": "stream",
     "text": [
      "/tmp/ipykernel_2221566/2492021236.py:12: RuntimeWarning: invalid value encountered in sqrt\n",
      "  cos = abs((1 - (r/rsun)**2)**0.5)\n"
     ]
    },
    {
     "name": "stdout",
     "output_type": "stream",
     "text": [
      "file done\n"
     ]
    },
    {
     "name": "stderr",
     "output_type": "stream",
     "text": [
      "/home/aiia/newDisk/anaconda3/envs/zz_pytorch/lib/python3.9/site-packages/sklearn/cluster/_kmeans.py:1412: FutureWarning: The default value of `n_init` will change from 10 to 'auto' in 1.4. Set the value of `n_init` explicitly to suppress the warning\n",
      "  super()._check_params_vs_input(X, default_n_init=10)\n"
     ]
    },
    {
     "name": "stdout",
     "output_type": "stream",
     "text": [
      "coasted 0:03:42.725859\n",
      "data processing\n"
     ]
    },
    {
     "name": "stderr",
     "output_type": "stream",
     "text": [
      "/tmp/ipykernel_2221566/2492021236.py:12: RuntimeWarning: invalid value encountered in sqrt\n",
      "  cos = abs((1 - (r/rsun)**2)**0.5)\n"
     ]
    },
    {
     "name": "stdout",
     "output_type": "stream",
     "text": [
      "file done\n"
     ]
    },
    {
     "name": "stderr",
     "output_type": "stream",
     "text": [
      "/home/aiia/newDisk/anaconda3/envs/zz_pytorch/lib/python3.9/site-packages/sklearn/cluster/_kmeans.py:1412: FutureWarning: The default value of `n_init` will change from 10 to 'auto' in 1.4. Set the value of `n_init` explicitly to suppress the warning\n",
      "  super()._check_params_vs_input(X, default_n_init=10)\n"
     ]
    },
    {
     "name": "stdout",
     "output_type": "stream",
     "text": [
      "coasted 0:03:44.127740\n",
      "data processing\n"
     ]
    },
    {
     "name": "stderr",
     "output_type": "stream",
     "text": [
      "/tmp/ipykernel_2221566/2492021236.py:12: RuntimeWarning: invalid value encountered in sqrt\n",
      "  cos = abs((1 - (r/rsun)**2)**0.5)\n"
     ]
    },
    {
     "name": "stdout",
     "output_type": "stream",
     "text": [
      "file done\n"
     ]
    },
    {
     "name": "stderr",
     "output_type": "stream",
     "text": [
      "/home/aiia/newDisk/anaconda3/envs/zz_pytorch/lib/python3.9/site-packages/sklearn/cluster/_kmeans.py:1412: FutureWarning: The default value of `n_init` will change from 10 to 'auto' in 1.4. Set the value of `n_init` explicitly to suppress the warning\n",
      "  super()._check_params_vs_input(X, default_n_init=10)\n"
     ]
    },
    {
     "name": "stdout",
     "output_type": "stream",
     "text": [
      "coasted 0:03:41.025512\n",
      "data processing\n"
     ]
    },
    {
     "name": "stderr",
     "output_type": "stream",
     "text": [
      "/tmp/ipykernel_2221566/2492021236.py:12: RuntimeWarning: invalid value encountered in sqrt\n",
      "  cos = abs((1 - (r/rsun)**2)**0.5)\n"
     ]
    },
    {
     "name": "stdout",
     "output_type": "stream",
     "text": [
      "file done\n"
     ]
    },
    {
     "name": "stderr",
     "output_type": "stream",
     "text": [
      "/home/aiia/newDisk/anaconda3/envs/zz_pytorch/lib/python3.9/site-packages/sklearn/cluster/_kmeans.py:1412: FutureWarning: The default value of `n_init` will change from 10 to 'auto' in 1.4. Set the value of `n_init` explicitly to suppress the warning\n",
      "  super()._check_params_vs_input(X, default_n_init=10)\n"
     ]
    },
    {
     "name": "stdout",
     "output_type": "stream",
     "text": [
      "coasted 0:03:52.166951\n",
      "data processing\n"
     ]
    },
    {
     "name": "stderr",
     "output_type": "stream",
     "text": [
      "/tmp/ipykernel_2221566/2492021236.py:12: RuntimeWarning: invalid value encountered in sqrt\n",
      "  cos = abs((1 - (r/rsun)**2)**0.5)\n"
     ]
    },
    {
     "name": "stdout",
     "output_type": "stream",
     "text": [
      "file done\n"
     ]
    },
    {
     "name": "stderr",
     "output_type": "stream",
     "text": [
      "/home/aiia/newDisk/anaconda3/envs/zz_pytorch/lib/python3.9/site-packages/sklearn/cluster/_kmeans.py:1412: FutureWarning: The default value of `n_init` will change from 10 to 'auto' in 1.4. Set the value of `n_init` explicitly to suppress the warning\n",
      "  super()._check_params_vs_input(X, default_n_init=10)\n"
     ]
    },
    {
     "name": "stdout",
     "output_type": "stream",
     "text": [
      "coasted 0:03:52.487438\n",
      "data processing\n"
     ]
    },
    {
     "name": "stderr",
     "output_type": "stream",
     "text": [
      "/tmp/ipykernel_2221566/2492021236.py:12: RuntimeWarning: invalid value encountered in sqrt\n",
      "  cos = abs((1 - (r/rsun)**2)**0.5)\n"
     ]
    },
    {
     "name": "stdout",
     "output_type": "stream",
     "text": [
      "file done\n"
     ]
    },
    {
     "name": "stderr",
     "output_type": "stream",
     "text": [
      "/home/aiia/newDisk/anaconda3/envs/zz_pytorch/lib/python3.9/site-packages/sklearn/cluster/_kmeans.py:1412: FutureWarning: The default value of `n_init` will change from 10 to 'auto' in 1.4. Set the value of `n_init` explicitly to suppress the warning\n",
      "  super()._check_params_vs_input(X, default_n_init=10)\n"
     ]
    },
    {
     "name": "stdout",
     "output_type": "stream",
     "text": [
      "coasted 0:04:02.680344\n",
      "data processing\n"
     ]
    },
    {
     "name": "stderr",
     "output_type": "stream",
     "text": [
      "/tmp/ipykernel_2221566/2492021236.py:12: RuntimeWarning: invalid value encountered in sqrt\n",
      "  cos = abs((1 - (r/rsun)**2)**0.5)\n"
     ]
    },
    {
     "name": "stdout",
     "output_type": "stream",
     "text": [
      "file done\n"
     ]
    },
    {
     "name": "stderr",
     "output_type": "stream",
     "text": [
      "/home/aiia/newDisk/anaconda3/envs/zz_pytorch/lib/python3.9/site-packages/sklearn/cluster/_kmeans.py:1412: FutureWarning: The default value of `n_init` will change from 10 to 'auto' in 1.4. Set the value of `n_init` explicitly to suppress the warning\n",
      "  super()._check_params_vs_input(X, default_n_init=10)\n"
     ]
    },
    {
     "name": "stdout",
     "output_type": "stream",
     "text": [
      "coasted 0:03:54.434598\n",
      "data processing\n"
     ]
    },
    {
     "name": "stderr",
     "output_type": "stream",
     "text": [
      "/tmp/ipykernel_2221566/2492021236.py:12: RuntimeWarning: invalid value encountered in sqrt\n",
      "  cos = abs((1 - (r/rsun)**2)**0.5)\n"
     ]
    },
    {
     "name": "stdout",
     "output_type": "stream",
     "text": [
      "file done\n"
     ]
    },
    {
     "name": "stderr",
     "output_type": "stream",
     "text": [
      "/home/aiia/newDisk/anaconda3/envs/zz_pytorch/lib/python3.9/site-packages/sklearn/cluster/_kmeans.py:1412: FutureWarning: The default value of `n_init` will change from 10 to 'auto' in 1.4. Set the value of `n_init` explicitly to suppress the warning\n",
      "  super()._check_params_vs_input(X, default_n_init=10)\n"
     ]
    },
    {
     "name": "stdout",
     "output_type": "stream",
     "text": [
      "coasted 0:03:43.479432\n",
      "data processing\n"
     ]
    },
    {
     "name": "stderr",
     "output_type": "stream",
     "text": [
      "/tmp/ipykernel_2221566/2492021236.py:12: RuntimeWarning: invalid value encountered in sqrt\n",
      "  cos = abs((1 - (r/rsun)**2)**0.5)\n"
     ]
    },
    {
     "name": "stdout",
     "output_type": "stream",
     "text": [
      "file done\n"
     ]
    },
    {
     "name": "stderr",
     "output_type": "stream",
     "text": [
      "/home/aiia/newDisk/anaconda3/envs/zz_pytorch/lib/python3.9/site-packages/sklearn/cluster/_kmeans.py:1412: FutureWarning: The default value of `n_init` will change from 10 to 'auto' in 1.4. Set the value of `n_init` explicitly to suppress the warning\n",
      "  super()._check_params_vs_input(X, default_n_init=10)\n"
     ]
    },
    {
     "name": "stdout",
     "output_type": "stream",
     "text": [
      "coasted 0:03:42.960047\n",
      "data processing\n"
     ]
    },
    {
     "name": "stderr",
     "output_type": "stream",
     "text": [
      "/tmp/ipykernel_2221566/2492021236.py:12: RuntimeWarning: invalid value encountered in sqrt\n",
      "  cos = abs((1 - (r/rsun)**2)**0.5)\n"
     ]
    },
    {
     "name": "stdout",
     "output_type": "stream",
     "text": [
      "file done\n"
     ]
    },
    {
     "name": "stderr",
     "output_type": "stream",
     "text": [
      "/home/aiia/newDisk/anaconda3/envs/zz_pytorch/lib/python3.9/site-packages/sklearn/cluster/_kmeans.py:1412: FutureWarning: The default value of `n_init` will change from 10 to 'auto' in 1.4. Set the value of `n_init` explicitly to suppress the warning\n",
      "  super()._check_params_vs_input(X, default_n_init=10)\n"
     ]
    },
    {
     "name": "stdout",
     "output_type": "stream",
     "text": [
      "coasted 0:04:25.995991\n",
      "data processing\n"
     ]
    },
    {
     "name": "stderr",
     "output_type": "stream",
     "text": [
      "/tmp/ipykernel_2221566/2492021236.py:12: RuntimeWarning: invalid value encountered in sqrt\n",
      "  cos = abs((1 - (r/rsun)**2)**0.5)\n"
     ]
    },
    {
     "name": "stdout",
     "output_type": "stream",
     "text": [
      "file done\n"
     ]
    },
    {
     "name": "stderr",
     "output_type": "stream",
     "text": [
      "/home/aiia/newDisk/anaconda3/envs/zz_pytorch/lib/python3.9/site-packages/sklearn/cluster/_kmeans.py:1412: FutureWarning: The default value of `n_init` will change from 10 to 'auto' in 1.4. Set the value of `n_init` explicitly to suppress the warning\n",
      "  super()._check_params_vs_input(X, default_n_init=10)\n"
     ]
    },
    {
     "name": "stdout",
     "output_type": "stream",
     "text": [
      "coasted 0:04:13.056699\n",
      "data processing\n"
     ]
    },
    {
     "name": "stderr",
     "output_type": "stream",
     "text": [
      "/tmp/ipykernel_2221566/2492021236.py:12: RuntimeWarning: invalid value encountered in sqrt\n",
      "  cos = abs((1 - (r/rsun)**2)**0.5)\n"
     ]
    },
    {
     "name": "stdout",
     "output_type": "stream",
     "text": [
      "file done\n"
     ]
    },
    {
     "name": "stderr",
     "output_type": "stream",
     "text": [
      "/home/aiia/newDisk/anaconda3/envs/zz_pytorch/lib/python3.9/site-packages/sklearn/cluster/_kmeans.py:1412: FutureWarning: The default value of `n_init` will change from 10 to 'auto' in 1.4. Set the value of `n_init` explicitly to suppress the warning\n",
      "  super()._check_params_vs_input(X, default_n_init=10)\n"
     ]
    },
    {
     "name": "stdout",
     "output_type": "stream",
     "text": [
      "coasted 0:04:31.480718\n",
      "data processing\n"
     ]
    },
    {
     "name": "stderr",
     "output_type": "stream",
     "text": [
      "/tmp/ipykernel_2221566/2492021236.py:12: RuntimeWarning: invalid value encountered in sqrt\n",
      "  cos = abs((1 - (r/rsun)**2)**0.5)\n"
     ]
    },
    {
     "name": "stdout",
     "output_type": "stream",
     "text": [
      "file done\n"
     ]
    },
    {
     "name": "stderr",
     "output_type": "stream",
     "text": [
      "/home/aiia/newDisk/anaconda3/envs/zz_pytorch/lib/python3.9/site-packages/sklearn/cluster/_kmeans.py:1412: FutureWarning: The default value of `n_init` will change from 10 to 'auto' in 1.4. Set the value of `n_init` explicitly to suppress the warning\n",
      "  super()._check_params_vs_input(X, default_n_init=10)\n"
     ]
    },
    {
     "name": "stdout",
     "output_type": "stream",
     "text": [
      "coasted 0:04:33.344436\n",
      "data processing\n"
     ]
    },
    {
     "name": "stderr",
     "output_type": "stream",
     "text": [
      "/tmp/ipykernel_2221566/2492021236.py:12: RuntimeWarning: invalid value encountered in sqrt\n",
      "  cos = abs((1 - (r/rsun)**2)**0.5)\n"
     ]
    },
    {
     "name": "stdout",
     "output_type": "stream",
     "text": [
      "file done\n"
     ]
    },
    {
     "name": "stderr",
     "output_type": "stream",
     "text": [
      "/home/aiia/newDisk/anaconda3/envs/zz_pytorch/lib/python3.9/site-packages/sklearn/cluster/_kmeans.py:1412: FutureWarning: The default value of `n_init` will change from 10 to 'auto' in 1.4. Set the value of `n_init` explicitly to suppress the warning\n",
      "  super()._check_params_vs_input(X, default_n_init=10)\n"
     ]
    },
    {
     "name": "stdout",
     "output_type": "stream",
     "text": [
      "coasted 0:04:29.662406\n",
      "data processing\n"
     ]
    },
    {
     "name": "stderr",
     "output_type": "stream",
     "text": [
      "/tmp/ipykernel_2221566/2492021236.py:12: RuntimeWarning: invalid value encountered in sqrt\n",
      "  cos = abs((1 - (r/rsun)**2)**0.5)\n"
     ]
    },
    {
     "name": "stdout",
     "output_type": "stream",
     "text": [
      "file done\n"
     ]
    },
    {
     "name": "stderr",
     "output_type": "stream",
     "text": [
      "/home/aiia/newDisk/anaconda3/envs/zz_pytorch/lib/python3.9/site-packages/sklearn/cluster/_kmeans.py:1412: FutureWarning: The default value of `n_init` will change from 10 to 'auto' in 1.4. Set the value of `n_init` explicitly to suppress the warning\n",
      "  super()._check_params_vs_input(X, default_n_init=10)\n"
     ]
    },
    {
     "name": "stdout",
     "output_type": "stream",
     "text": [
      "coasted 0:04:36.923566\n",
      "data processing\n"
     ]
    },
    {
     "name": "stderr",
     "output_type": "stream",
     "text": [
      "/tmp/ipykernel_2221566/2492021236.py:12: RuntimeWarning: invalid value encountered in sqrt\n",
      "  cos = abs((1 - (r/rsun)**2)**0.5)\n"
     ]
    },
    {
     "name": "stdout",
     "output_type": "stream",
     "text": [
      "file done\n"
     ]
    },
    {
     "name": "stderr",
     "output_type": "stream",
     "text": [
      "/home/aiia/newDisk/anaconda3/envs/zz_pytorch/lib/python3.9/site-packages/sklearn/cluster/_kmeans.py:1412: FutureWarning: The default value of `n_init` will change from 10 to 'auto' in 1.4. Set the value of `n_init` explicitly to suppress the warning\n",
      "  super()._check_params_vs_input(X, default_n_init=10)\n"
     ]
    },
    {
     "name": "stdout",
     "output_type": "stream",
     "text": [
      "coasted 0:04:31.740452\n",
      "data processing\n"
     ]
    },
    {
     "name": "stderr",
     "output_type": "stream",
     "text": [
      "/tmp/ipykernel_2221566/2492021236.py:12: RuntimeWarning: invalid value encountered in sqrt\n",
      "  cos = abs((1 - (r/rsun)**2)**0.5)\n"
     ]
    },
    {
     "name": "stdout",
     "output_type": "stream",
     "text": [
      "file done\n"
     ]
    },
    {
     "name": "stderr",
     "output_type": "stream",
     "text": [
      "/home/aiia/newDisk/anaconda3/envs/zz_pytorch/lib/python3.9/site-packages/sklearn/cluster/_kmeans.py:1412: FutureWarning: The default value of `n_init` will change from 10 to 'auto' in 1.4. Set the value of `n_init` explicitly to suppress the warning\n",
      "  super()._check_params_vs_input(X, default_n_init=10)\n"
     ]
    },
    {
     "name": "stdout",
     "output_type": "stream",
     "text": [
      "coasted 0:04:01.308015\n",
      "data processing\n"
     ]
    },
    {
     "name": "stderr",
     "output_type": "stream",
     "text": [
      "/tmp/ipykernel_2221566/2492021236.py:12: RuntimeWarning: invalid value encountered in sqrt\n",
      "  cos = abs((1 - (r/rsun)**2)**0.5)\n"
     ]
    },
    {
     "name": "stdout",
     "output_type": "stream",
     "text": [
      "file done\n"
     ]
    },
    {
     "name": "stderr",
     "output_type": "stream",
     "text": [
      "/home/aiia/newDisk/anaconda3/envs/zz_pytorch/lib/python3.9/site-packages/sklearn/cluster/_kmeans.py:1412: FutureWarning: The default value of `n_init` will change from 10 to 'auto' in 1.4. Set the value of `n_init` explicitly to suppress the warning\n",
      "  super()._check_params_vs_input(X, default_n_init=10)\n"
     ]
    },
    {
     "name": "stdout",
     "output_type": "stream",
     "text": [
      "coasted 0:04:11.411349\n",
      "data processing\n"
     ]
    },
    {
     "name": "stderr",
     "output_type": "stream",
     "text": [
      "/tmp/ipykernel_2221566/2492021236.py:12: RuntimeWarning: invalid value encountered in sqrt\n",
      "  cos = abs((1 - (r/rsun)**2)**0.5)\n"
     ]
    },
    {
     "name": "stdout",
     "output_type": "stream",
     "text": [
      "file done\n"
     ]
    },
    {
     "name": "stderr",
     "output_type": "stream",
     "text": [
      "/home/aiia/newDisk/anaconda3/envs/zz_pytorch/lib/python3.9/site-packages/sklearn/cluster/_kmeans.py:1412: FutureWarning: The default value of `n_init` will change from 10 to 'auto' in 1.4. Set the value of `n_init` explicitly to suppress the warning\n",
      "  super()._check_params_vs_input(X, default_n_init=10)\n"
     ]
    },
    {
     "name": "stdout",
     "output_type": "stream",
     "text": [
      "coasted 0:04:39.240073\n",
      "data processing\n"
     ]
    },
    {
     "name": "stderr",
     "output_type": "stream",
     "text": [
      "/tmp/ipykernel_2221566/2492021236.py:12: RuntimeWarning: invalid value encountered in sqrt\n",
      "  cos = abs((1 - (r/rsun)**2)**0.5)\n"
     ]
    },
    {
     "name": "stdout",
     "output_type": "stream",
     "text": [
      "file done\n"
     ]
    },
    {
     "name": "stderr",
     "output_type": "stream",
     "text": [
      "/home/aiia/newDisk/anaconda3/envs/zz_pytorch/lib/python3.9/site-packages/sklearn/cluster/_kmeans.py:1412: FutureWarning: The default value of `n_init` will change from 10 to 'auto' in 1.4. Set the value of `n_init` explicitly to suppress the warning\n",
      "  super()._check_params_vs_input(X, default_n_init=10)\n"
     ]
    },
    {
     "name": "stdout",
     "output_type": "stream",
     "text": [
      "coasted 0:04:48.356411\n",
      "data processing\n"
     ]
    },
    {
     "name": "stderr",
     "output_type": "stream",
     "text": [
      "/tmp/ipykernel_2221566/2492021236.py:12: RuntimeWarning: invalid value encountered in sqrt\n",
      "  cos = abs((1 - (r/rsun)**2)**0.5)\n"
     ]
    },
    {
     "name": "stdout",
     "output_type": "stream",
     "text": [
      "file done\n"
     ]
    },
    {
     "name": "stderr",
     "output_type": "stream",
     "text": [
      "/home/aiia/newDisk/anaconda3/envs/zz_pytorch/lib/python3.9/site-packages/sklearn/cluster/_kmeans.py:1412: FutureWarning: The default value of `n_init` will change from 10 to 'auto' in 1.4. Set the value of `n_init` explicitly to suppress the warning\n",
      "  super()._check_params_vs_input(X, default_n_init=10)\n"
     ]
    },
    {
     "name": "stdout",
     "output_type": "stream",
     "text": [
      "coasted 0:04:31.339837\n",
      "data processing\n"
     ]
    },
    {
     "name": "stderr",
     "output_type": "stream",
     "text": [
      "/tmp/ipykernel_2221566/2492021236.py:12: RuntimeWarning: invalid value encountered in sqrt\n",
      "  cos = abs((1 - (r/rsun)**2)**0.5)\n"
     ]
    },
    {
     "name": "stdout",
     "output_type": "stream",
     "text": [
      "file done\n"
     ]
    },
    {
     "name": "stderr",
     "output_type": "stream",
     "text": [
      "/home/aiia/newDisk/anaconda3/envs/zz_pytorch/lib/python3.9/site-packages/sklearn/cluster/_kmeans.py:1412: FutureWarning: The default value of `n_init` will change from 10 to 'auto' in 1.4. Set the value of `n_init` explicitly to suppress the warning\n",
      "  super()._check_params_vs_input(X, default_n_init=10)\n"
     ]
    },
    {
     "name": "stdout",
     "output_type": "stream",
     "text": [
      "coasted 0:04:29.304378\n",
      "data processing\n"
     ]
    },
    {
     "name": "stderr",
     "output_type": "stream",
     "text": [
      "/tmp/ipykernel_2221566/2492021236.py:12: RuntimeWarning: invalid value encountered in sqrt\n",
      "  cos = abs((1 - (r/rsun)**2)**0.5)\n"
     ]
    },
    {
     "name": "stdout",
     "output_type": "stream",
     "text": [
      "file done\n"
     ]
    },
    {
     "name": "stderr",
     "output_type": "stream",
     "text": [
      "/home/aiia/newDisk/anaconda3/envs/zz_pytorch/lib/python3.9/site-packages/sklearn/cluster/_kmeans.py:1412: FutureWarning: The default value of `n_init` will change from 10 to 'auto' in 1.4. Set the value of `n_init` explicitly to suppress the warning\n",
      "  super()._check_params_vs_input(X, default_n_init=10)\n"
     ]
    },
    {
     "name": "stdout",
     "output_type": "stream",
     "text": [
      "coasted 0:04:20.636997\n",
      "data processing\n"
     ]
    },
    {
     "name": "stderr",
     "output_type": "stream",
     "text": [
      "/tmp/ipykernel_2221566/2492021236.py:12: RuntimeWarning: invalid value encountered in sqrt\n",
      "  cos = abs((1 - (r/rsun)**2)**0.5)\n"
     ]
    },
    {
     "name": "stdout",
     "output_type": "stream",
     "text": [
      "file done\n"
     ]
    },
    {
     "name": "stderr",
     "output_type": "stream",
     "text": [
      "/home/aiia/newDisk/anaconda3/envs/zz_pytorch/lib/python3.9/site-packages/sklearn/cluster/_kmeans.py:1412: FutureWarning: The default value of `n_init` will change from 10 to 'auto' in 1.4. Set the value of `n_init` explicitly to suppress the warning\n",
      "  super()._check_params_vs_input(X, default_n_init=10)\n"
     ]
    },
    {
     "name": "stdout",
     "output_type": "stream",
     "text": [
      "coasted 0:04:14.689022\n",
      "data processing\n"
     ]
    },
    {
     "name": "stderr",
     "output_type": "stream",
     "text": [
      "/tmp/ipykernel_2221566/2492021236.py:12: RuntimeWarning: invalid value encountered in sqrt\n",
      "  cos = abs((1 - (r/rsun)**2)**0.5)\n"
     ]
    },
    {
     "name": "stdout",
     "output_type": "stream",
     "text": [
      "file done\n"
     ]
    },
    {
     "name": "stderr",
     "output_type": "stream",
     "text": [
      "/home/aiia/newDisk/anaconda3/envs/zz_pytorch/lib/python3.9/site-packages/sklearn/cluster/_kmeans.py:1412: FutureWarning: The default value of `n_init` will change from 10 to 'auto' in 1.4. Set the value of `n_init` explicitly to suppress the warning\n",
      "  super()._check_params_vs_input(X, default_n_init=10)\n"
     ]
    },
    {
     "name": "stdout",
     "output_type": "stream",
     "text": [
      "coasted 0:04:37.824494\n",
      "data processing\n"
     ]
    },
    {
     "name": "stderr",
     "output_type": "stream",
     "text": [
      "/tmp/ipykernel_2221566/2492021236.py:12: RuntimeWarning: invalid value encountered in sqrt\n",
      "  cos = abs((1 - (r/rsun)**2)**0.5)\n"
     ]
    },
    {
     "name": "stdout",
     "output_type": "stream",
     "text": [
      "file done\n"
     ]
    },
    {
     "name": "stderr",
     "output_type": "stream",
     "text": [
      "/home/aiia/newDisk/anaconda3/envs/zz_pytorch/lib/python3.9/site-packages/sklearn/cluster/_kmeans.py:1412: FutureWarning: The default value of `n_init` will change from 10 to 'auto' in 1.4. Set the value of `n_init` explicitly to suppress the warning\n",
      "  super()._check_params_vs_input(X, default_n_init=10)\n"
     ]
    },
    {
     "name": "stdout",
     "output_type": "stream",
     "text": [
      "coasted 0:04:49.005975\n",
      "data processing\n"
     ]
    },
    {
     "name": "stderr",
     "output_type": "stream",
     "text": [
      "/tmp/ipykernel_2221566/2492021236.py:12: RuntimeWarning: invalid value encountered in sqrt\n",
      "  cos = abs((1 - (r/rsun)**2)**0.5)\n"
     ]
    },
    {
     "name": "stdout",
     "output_type": "stream",
     "text": [
      "file done\n"
     ]
    },
    {
     "name": "stderr",
     "output_type": "stream",
     "text": [
      "/home/aiia/newDisk/anaconda3/envs/zz_pytorch/lib/python3.9/site-packages/sklearn/cluster/_kmeans.py:1412: FutureWarning: The default value of `n_init` will change from 10 to 'auto' in 1.4. Set the value of `n_init` explicitly to suppress the warning\n",
      "  super()._check_params_vs_input(X, default_n_init=10)\n"
     ]
    },
    {
     "name": "stdout",
     "output_type": "stream",
     "text": [
      "coasted 0:04:28.843436\n",
      "data processing\n"
     ]
    },
    {
     "name": "stderr",
     "output_type": "stream",
     "text": [
      "/tmp/ipykernel_2221566/2492021236.py:12: RuntimeWarning: invalid value encountered in sqrt\n",
      "  cos = abs((1 - (r/rsun)**2)**0.5)\n"
     ]
    },
    {
     "name": "stdout",
     "output_type": "stream",
     "text": [
      "file done\n"
     ]
    },
    {
     "name": "stderr",
     "output_type": "stream",
     "text": [
      "/home/aiia/newDisk/anaconda3/envs/zz_pytorch/lib/python3.9/site-packages/sklearn/cluster/_kmeans.py:1412: FutureWarning: The default value of `n_init` will change from 10 to 'auto' in 1.4. Set the value of `n_init` explicitly to suppress the warning\n",
      "  super()._check_params_vs_input(X, default_n_init=10)\n"
     ]
    },
    {
     "name": "stdout",
     "output_type": "stream",
     "text": [
      "coasted 0:04:19.067294\n",
      "data processing\n"
     ]
    },
    {
     "name": "stderr",
     "output_type": "stream",
     "text": [
      "/tmp/ipykernel_2221566/2492021236.py:12: RuntimeWarning: invalid value encountered in sqrt\n",
      "  cos = abs((1 - (r/rsun)**2)**0.5)\n"
     ]
    },
    {
     "name": "stdout",
     "output_type": "stream",
     "text": [
      "file done\n"
     ]
    },
    {
     "name": "stderr",
     "output_type": "stream",
     "text": [
      "/home/aiia/newDisk/anaconda3/envs/zz_pytorch/lib/python3.9/site-packages/sklearn/cluster/_kmeans.py:1412: FutureWarning: The default value of `n_init` will change from 10 to 'auto' in 1.4. Set the value of `n_init` explicitly to suppress the warning\n",
      "  super()._check_params_vs_input(X, default_n_init=10)\n"
     ]
    },
    {
     "name": "stdout",
     "output_type": "stream",
     "text": [
      "coasted 0:05:04.476756\n",
      "data processing\n"
     ]
    },
    {
     "name": "stderr",
     "output_type": "stream",
     "text": [
      "/tmp/ipykernel_2221566/2492021236.py:12: RuntimeWarning: invalid value encountered in sqrt\n",
      "  cos = abs((1 - (r/rsun)**2)**0.5)\n"
     ]
    },
    {
     "name": "stdout",
     "output_type": "stream",
     "text": [
      "file done\n"
     ]
    },
    {
     "name": "stderr",
     "output_type": "stream",
     "text": [
      "/home/aiia/newDisk/anaconda3/envs/zz_pytorch/lib/python3.9/site-packages/sklearn/cluster/_kmeans.py:1412: FutureWarning: The default value of `n_init` will change from 10 to 'auto' in 1.4. Set the value of `n_init` explicitly to suppress the warning\n",
      "  super()._check_params_vs_input(X, default_n_init=10)\n"
     ]
    },
    {
     "name": "stdout",
     "output_type": "stream",
     "text": [
      "coasted 0:04:30.286370\n",
      "data processing\n"
     ]
    },
    {
     "name": "stderr",
     "output_type": "stream",
     "text": [
      "/tmp/ipykernel_2221566/2492021236.py:12: RuntimeWarning: invalid value encountered in sqrt\n",
      "  cos = abs((1 - (r/rsun)**2)**0.5)\n"
     ]
    },
    {
     "name": "stdout",
     "output_type": "stream",
     "text": [
      "file done\n"
     ]
    },
    {
     "name": "stderr",
     "output_type": "stream",
     "text": [
      "/home/aiia/newDisk/anaconda3/envs/zz_pytorch/lib/python3.9/site-packages/sklearn/cluster/_kmeans.py:1412: FutureWarning: The default value of `n_init` will change from 10 to 'auto' in 1.4. Set the value of `n_init` explicitly to suppress the warning\n",
      "  super()._check_params_vs_input(X, default_n_init=10)\n"
     ]
    },
    {
     "name": "stdout",
     "output_type": "stream",
     "text": [
      "coasted 0:03:58.382385\n",
      "data processing\n"
     ]
    },
    {
     "name": "stderr",
     "output_type": "stream",
     "text": [
      "/tmp/ipykernel_2221566/2492021236.py:12: RuntimeWarning: invalid value encountered in sqrt\n",
      "  cos = abs((1 - (r/rsun)**2)**0.5)\n"
     ]
    },
    {
     "name": "stdout",
     "output_type": "stream",
     "text": [
      "file done\n"
     ]
    },
    {
     "name": "stderr",
     "output_type": "stream",
     "text": [
      "/home/aiia/newDisk/anaconda3/envs/zz_pytorch/lib/python3.9/site-packages/sklearn/cluster/_kmeans.py:1412: FutureWarning: The default value of `n_init` will change from 10 to 'auto' in 1.4. Set the value of `n_init` explicitly to suppress the warning\n",
      "  super()._check_params_vs_input(X, default_n_init=10)\n"
     ]
    },
    {
     "name": "stdout",
     "output_type": "stream",
     "text": [
      "coasted 0:04:29.912731\n",
      "data processing\n"
     ]
    },
    {
     "name": "stderr",
     "output_type": "stream",
     "text": [
      "/tmp/ipykernel_2221566/2492021236.py:12: RuntimeWarning: invalid value encountered in sqrt\n",
      "  cos = abs((1 - (r/rsun)**2)**0.5)\n"
     ]
    },
    {
     "name": "stdout",
     "output_type": "stream",
     "text": [
      "file done\n"
     ]
    },
    {
     "name": "stderr",
     "output_type": "stream",
     "text": [
      "/home/aiia/newDisk/anaconda3/envs/zz_pytorch/lib/python3.9/site-packages/sklearn/cluster/_kmeans.py:1412: FutureWarning: The default value of `n_init` will change from 10 to 'auto' in 1.4. Set the value of `n_init` explicitly to suppress the warning\n",
      "  super()._check_params_vs_input(X, default_n_init=10)\n"
     ]
    },
    {
     "name": "stdout",
     "output_type": "stream",
     "text": [
      "coasted 0:04:31.481359\n",
      "data processing\n"
     ]
    },
    {
     "name": "stderr",
     "output_type": "stream",
     "text": [
      "/tmp/ipykernel_2221566/2492021236.py:12: RuntimeWarning: invalid value encountered in sqrt\n",
      "  cos = abs((1 - (r/rsun)**2)**0.5)\n"
     ]
    },
    {
     "name": "stdout",
     "output_type": "stream",
     "text": [
      "file done\n"
     ]
    },
    {
     "name": "stderr",
     "output_type": "stream",
     "text": [
      "/home/aiia/newDisk/anaconda3/envs/zz_pytorch/lib/python3.9/site-packages/sklearn/cluster/_kmeans.py:1412: FutureWarning: The default value of `n_init` will change from 10 to 'auto' in 1.4. Set the value of `n_init` explicitly to suppress the warning\n",
      "  super()._check_params_vs_input(X, default_n_init=10)\n"
     ]
    },
    {
     "name": "stdout",
     "output_type": "stream",
     "text": [
      "coasted 0:04:34.146683\n",
      "data processing\n"
     ]
    },
    {
     "name": "stderr",
     "output_type": "stream",
     "text": [
      "/tmp/ipykernel_2221566/2492021236.py:12: RuntimeWarning: invalid value encountered in sqrt\n",
      "  cos = abs((1 - (r/rsun)**2)**0.5)\n"
     ]
    },
    {
     "name": "stdout",
     "output_type": "stream",
     "text": [
      "file done\n"
     ]
    },
    {
     "name": "stderr",
     "output_type": "stream",
     "text": [
      "/home/aiia/newDisk/anaconda3/envs/zz_pytorch/lib/python3.9/site-packages/sklearn/cluster/_kmeans.py:1412: FutureWarning: The default value of `n_init` will change from 10 to 'auto' in 1.4. Set the value of `n_init` explicitly to suppress the warning\n",
      "  super()._check_params_vs_input(X, default_n_init=10)\n"
     ]
    },
    {
     "name": "stdout",
     "output_type": "stream",
     "text": [
      "coasted 0:04:43.787998\n",
      "data processing\n"
     ]
    },
    {
     "name": "stderr",
     "output_type": "stream",
     "text": [
      "/tmp/ipykernel_2221566/2492021236.py:12: RuntimeWarning: invalid value encountered in sqrt\n",
      "  cos = abs((1 - (r/rsun)**2)**0.5)\n"
     ]
    },
    {
     "name": "stdout",
     "output_type": "stream",
     "text": [
      "file done\n"
     ]
    },
    {
     "name": "stderr",
     "output_type": "stream",
     "text": [
      "/home/aiia/newDisk/anaconda3/envs/zz_pytorch/lib/python3.9/site-packages/sklearn/cluster/_kmeans.py:1412: FutureWarning: The default value of `n_init` will change from 10 to 'auto' in 1.4. Set the value of `n_init` explicitly to suppress the warning\n",
      "  super()._check_params_vs_input(X, default_n_init=10)\n"
     ]
    },
    {
     "name": "stdout",
     "output_type": "stream",
     "text": [
      "coasted 0:04:34.417156\n",
      "data processing\n"
     ]
    },
    {
     "name": "stderr",
     "output_type": "stream",
     "text": [
      "/tmp/ipykernel_2221566/2492021236.py:12: RuntimeWarning: invalid value encountered in sqrt\n",
      "  cos = abs((1 - (r/rsun)**2)**0.5)\n"
     ]
    },
    {
     "name": "stdout",
     "output_type": "stream",
     "text": [
      "file done\n"
     ]
    },
    {
     "name": "stderr",
     "output_type": "stream",
     "text": [
      "/home/aiia/newDisk/anaconda3/envs/zz_pytorch/lib/python3.9/site-packages/sklearn/cluster/_kmeans.py:1412: FutureWarning: The default value of `n_init` will change from 10 to 'auto' in 1.4. Set the value of `n_init` explicitly to suppress the warning\n",
      "  super()._check_params_vs_input(X, default_n_init=10)\n"
     ]
    },
    {
     "name": "stdout",
     "output_type": "stream",
     "text": [
      "coasted 0:04:19.054803\n",
      "data processing\n"
     ]
    },
    {
     "name": "stderr",
     "output_type": "stream",
     "text": [
      "/tmp/ipykernel_2221566/2492021236.py:12: RuntimeWarning: invalid value encountered in sqrt\n",
      "  cos = abs((1 - (r/rsun)**2)**0.5)\n"
     ]
    },
    {
     "name": "stdout",
     "output_type": "stream",
     "text": [
      "file done\n"
     ]
    },
    {
     "name": "stderr",
     "output_type": "stream",
     "text": [
      "/home/aiia/newDisk/anaconda3/envs/zz_pytorch/lib/python3.9/site-packages/sklearn/cluster/_kmeans.py:1412: FutureWarning: The default value of `n_init` will change from 10 to 'auto' in 1.4. Set the value of `n_init` explicitly to suppress the warning\n",
      "  super()._check_params_vs_input(X, default_n_init=10)\n"
     ]
    },
    {
     "name": "stdout",
     "output_type": "stream",
     "text": [
      "coasted 0:04:34.899511\n",
      "data processing\n"
     ]
    },
    {
     "name": "stderr",
     "output_type": "stream",
     "text": [
      "/tmp/ipykernel_2221566/2492021236.py:12: RuntimeWarning: invalid value encountered in sqrt\n",
      "  cos = abs((1 - (r/rsun)**2)**0.5)\n"
     ]
    },
    {
     "name": "stdout",
     "output_type": "stream",
     "text": [
      "file done\n"
     ]
    },
    {
     "name": "stderr",
     "output_type": "stream",
     "text": [
      "/home/aiia/newDisk/anaconda3/envs/zz_pytorch/lib/python3.9/site-packages/sklearn/cluster/_kmeans.py:1412: FutureWarning: The default value of `n_init` will change from 10 to 'auto' in 1.4. Set the value of `n_init` explicitly to suppress the warning\n",
      "  super()._check_params_vs_input(X, default_n_init=10)\n"
     ]
    },
    {
     "name": "stdout",
     "output_type": "stream",
     "text": [
      "coasted 0:04:40.249874\n",
      "data processing\n"
     ]
    },
    {
     "name": "stderr",
     "output_type": "stream",
     "text": [
      "/tmp/ipykernel_2221566/2492021236.py:12: RuntimeWarning: invalid value encountered in sqrt\n",
      "  cos = abs((1 - (r/rsun)**2)**0.5)\n"
     ]
    },
    {
     "name": "stdout",
     "output_type": "stream",
     "text": [
      "file done\n"
     ]
    },
    {
     "name": "stderr",
     "output_type": "stream",
     "text": [
      "/home/aiia/newDisk/anaconda3/envs/zz_pytorch/lib/python3.9/site-packages/sklearn/cluster/_kmeans.py:1412: FutureWarning: The default value of `n_init` will change from 10 to 'auto' in 1.4. Set the value of `n_init` explicitly to suppress the warning\n",
      "  super()._check_params_vs_input(X, default_n_init=10)\n"
     ]
    },
    {
     "name": "stdout",
     "output_type": "stream",
     "text": [
      "coasted 0:04:03.539883\n",
      "data processing\n"
     ]
    },
    {
     "name": "stderr",
     "output_type": "stream",
     "text": [
      "/tmp/ipykernel_2221566/2492021236.py:12: RuntimeWarning: invalid value encountered in sqrt\n",
      "  cos = abs((1 - (r/rsun)**2)**0.5)\n"
     ]
    },
    {
     "name": "stdout",
     "output_type": "stream",
     "text": [
      "file done\n"
     ]
    },
    {
     "name": "stderr",
     "output_type": "stream",
     "text": [
      "/home/aiia/newDisk/anaconda3/envs/zz_pytorch/lib/python3.9/site-packages/sklearn/cluster/_kmeans.py:1412: FutureWarning: The default value of `n_init` will change from 10 to 'auto' in 1.4. Set the value of `n_init` explicitly to suppress the warning\n",
      "  super()._check_params_vs_input(X, default_n_init=10)\n"
     ]
    },
    {
     "name": "stdout",
     "output_type": "stream",
     "text": [
      "coasted 0:04:22.974166\n",
      "data processing\n"
     ]
    },
    {
     "name": "stderr",
     "output_type": "stream",
     "text": [
      "/tmp/ipykernel_2221566/2492021236.py:12: RuntimeWarning: invalid value encountered in sqrt\n",
      "  cos = abs((1 - (r/rsun)**2)**0.5)\n"
     ]
    },
    {
     "name": "stdout",
     "output_type": "stream",
     "text": [
      "file done\n"
     ]
    },
    {
     "name": "stderr",
     "output_type": "stream",
     "text": [
      "/home/aiia/newDisk/anaconda3/envs/zz_pytorch/lib/python3.9/site-packages/sklearn/cluster/_kmeans.py:1412: FutureWarning: The default value of `n_init` will change from 10 to 'auto' in 1.4. Set the value of `n_init` explicitly to suppress the warning\n",
      "  super()._check_params_vs_input(X, default_n_init=10)\n"
     ]
    },
    {
     "name": "stdout",
     "output_type": "stream",
     "text": [
      "coasted 0:04:37.660361\n",
      "data processing\n"
     ]
    },
    {
     "name": "stderr",
     "output_type": "stream",
     "text": [
      "/tmp/ipykernel_2221566/2492021236.py:12: RuntimeWarning: invalid value encountered in sqrt\n",
      "  cos = abs((1 - (r/rsun)**2)**0.5)\n"
     ]
    },
    {
     "name": "stdout",
     "output_type": "stream",
     "text": [
      "file done\n"
     ]
    },
    {
     "name": "stderr",
     "output_type": "stream",
     "text": [
      "/home/aiia/newDisk/anaconda3/envs/zz_pytorch/lib/python3.9/site-packages/sklearn/cluster/_kmeans.py:1412: FutureWarning: The default value of `n_init` will change from 10 to 'auto' in 1.4. Set the value of `n_init` explicitly to suppress the warning\n",
      "  super()._check_params_vs_input(X, default_n_init=10)\n"
     ]
    },
    {
     "name": "stdout",
     "output_type": "stream",
     "text": [
      "coasted 0:04:17.480825\n",
      "data processing\n"
     ]
    },
    {
     "name": "stderr",
     "output_type": "stream",
     "text": [
      "/tmp/ipykernel_2221566/2492021236.py:12: RuntimeWarning: invalid value encountered in sqrt\n",
      "  cos = abs((1 - (r/rsun)**2)**0.5)\n"
     ]
    },
    {
     "name": "stdout",
     "output_type": "stream",
     "text": [
      "file done\n"
     ]
    },
    {
     "name": "stderr",
     "output_type": "stream",
     "text": [
      "/home/aiia/newDisk/anaconda3/envs/zz_pytorch/lib/python3.9/site-packages/sklearn/cluster/_kmeans.py:1412: FutureWarning: The default value of `n_init` will change from 10 to 'auto' in 1.4. Set the value of `n_init` explicitly to suppress the warning\n",
      "  super()._check_params_vs_input(X, default_n_init=10)\n"
     ]
    },
    {
     "name": "stdout",
     "output_type": "stream",
     "text": [
      "coasted 0:04:22.246604\n",
      "data processing\n"
     ]
    },
    {
     "name": "stderr",
     "output_type": "stream",
     "text": [
      "/tmp/ipykernel_2221566/2492021236.py:12: RuntimeWarning: invalid value encountered in sqrt\n",
      "  cos = abs((1 - (r/rsun)**2)**0.5)\n"
     ]
    },
    {
     "name": "stdout",
     "output_type": "stream",
     "text": [
      "file done\n"
     ]
    },
    {
     "name": "stderr",
     "output_type": "stream",
     "text": [
      "/home/aiia/newDisk/anaconda3/envs/zz_pytorch/lib/python3.9/site-packages/sklearn/cluster/_kmeans.py:1412: FutureWarning: The default value of `n_init` will change from 10 to 'auto' in 1.4. Set the value of `n_init` explicitly to suppress the warning\n",
      "  super()._check_params_vs_input(X, default_n_init=10)\n"
     ]
    },
    {
     "name": "stdout",
     "output_type": "stream",
     "text": [
      "coasted 0:04:23.554226\n",
      "data processing\n"
     ]
    },
    {
     "name": "stderr",
     "output_type": "stream",
     "text": [
      "/tmp/ipykernel_2221566/2492021236.py:12: RuntimeWarning: invalid value encountered in sqrt\n",
      "  cos = abs((1 - (r/rsun)**2)**0.5)\n"
     ]
    },
    {
     "name": "stdout",
     "output_type": "stream",
     "text": [
      "file done\n"
     ]
    },
    {
     "name": "stderr",
     "output_type": "stream",
     "text": [
      "/home/aiia/newDisk/anaconda3/envs/zz_pytorch/lib/python3.9/site-packages/sklearn/cluster/_kmeans.py:1412: FutureWarning: The default value of `n_init` will change from 10 to 'auto' in 1.4. Set the value of `n_init` explicitly to suppress the warning\n",
      "  super()._check_params_vs_input(X, default_n_init=10)\n"
     ]
    },
    {
     "name": "stdout",
     "output_type": "stream",
     "text": [
      "coasted 0:04:43.103377\n",
      "data processing\n"
     ]
    },
    {
     "name": "stderr",
     "output_type": "stream",
     "text": [
      "/tmp/ipykernel_2221566/2492021236.py:12: RuntimeWarning: invalid value encountered in sqrt\n",
      "  cos = abs((1 - (r/rsun)**2)**0.5)\n"
     ]
    },
    {
     "name": "stdout",
     "output_type": "stream",
     "text": [
      "file done\n"
     ]
    },
    {
     "name": "stderr",
     "output_type": "stream",
     "text": [
      "/home/aiia/newDisk/anaconda3/envs/zz_pytorch/lib/python3.9/site-packages/sklearn/cluster/_kmeans.py:1412: FutureWarning: The default value of `n_init` will change from 10 to 'auto' in 1.4. Set the value of `n_init` explicitly to suppress the warning\n",
      "  super()._check_params_vs_input(X, default_n_init=10)\n"
     ]
    },
    {
     "name": "stdout",
     "output_type": "stream",
     "text": [
      "coasted 0:04:30.414044\n",
      "data processing\n"
     ]
    },
    {
     "name": "stderr",
     "output_type": "stream",
     "text": [
      "/tmp/ipykernel_2221566/2492021236.py:12: RuntimeWarning: invalid value encountered in sqrt\n",
      "  cos = abs((1 - (r/rsun)**2)**0.5)\n"
     ]
    },
    {
     "name": "stdout",
     "output_type": "stream",
     "text": [
      "file done\n"
     ]
    },
    {
     "name": "stderr",
     "output_type": "stream",
     "text": [
      "/home/aiia/newDisk/anaconda3/envs/zz_pytorch/lib/python3.9/site-packages/sklearn/cluster/_kmeans.py:1412: FutureWarning: The default value of `n_init` will change from 10 to 'auto' in 1.4. Set the value of `n_init` explicitly to suppress the warning\n",
      "  super()._check_params_vs_input(X, default_n_init=10)\n"
     ]
    },
    {
     "name": "stdout",
     "output_type": "stream",
     "text": [
      "coasted 0:04:14.688075\n",
      "data processing\n"
     ]
    },
    {
     "name": "stderr",
     "output_type": "stream",
     "text": [
      "/tmp/ipykernel_2221566/2492021236.py:12: RuntimeWarning: invalid value encountered in sqrt\n",
      "  cos = abs((1 - (r/rsun)**2)**0.5)\n"
     ]
    },
    {
     "name": "stdout",
     "output_type": "stream",
     "text": [
      "file done\n"
     ]
    },
    {
     "name": "stderr",
     "output_type": "stream",
     "text": [
      "/home/aiia/newDisk/anaconda3/envs/zz_pytorch/lib/python3.9/site-packages/sklearn/cluster/_kmeans.py:1412: FutureWarning: The default value of `n_init` will change from 10 to 'auto' in 1.4. Set the value of `n_init` explicitly to suppress the warning\n",
      "  super()._check_params_vs_input(X, default_n_init=10)\n"
     ]
    },
    {
     "name": "stdout",
     "output_type": "stream",
     "text": [
      "coasted 0:04:34.809986\n",
      "data processing\n"
     ]
    },
    {
     "name": "stderr",
     "output_type": "stream",
     "text": [
      "/tmp/ipykernel_2221566/2492021236.py:12: RuntimeWarning: invalid value encountered in sqrt\n",
      "  cos = abs((1 - (r/rsun)**2)**0.5)\n"
     ]
    },
    {
     "name": "stdout",
     "output_type": "stream",
     "text": [
      "file done\n"
     ]
    },
    {
     "name": "stderr",
     "output_type": "stream",
     "text": [
      "/home/aiia/newDisk/anaconda3/envs/zz_pytorch/lib/python3.9/site-packages/sklearn/cluster/_kmeans.py:1412: FutureWarning: The default value of `n_init` will change from 10 to 'auto' in 1.4. Set the value of `n_init` explicitly to suppress the warning\n",
      "  super()._check_params_vs_input(X, default_n_init=10)\n"
     ]
    },
    {
     "name": "stdout",
     "output_type": "stream",
     "text": [
      "coasted 0:04:28.878281\n",
      "data processing\n"
     ]
    },
    {
     "name": "stderr",
     "output_type": "stream",
     "text": [
      "/tmp/ipykernel_2221566/2492021236.py:12: RuntimeWarning: invalid value encountered in sqrt\n",
      "  cos = abs((1 - (r/rsun)**2)**0.5)\n"
     ]
    },
    {
     "name": "stdout",
     "output_type": "stream",
     "text": [
      "file done\n"
     ]
    },
    {
     "name": "stderr",
     "output_type": "stream",
     "text": [
      "/home/aiia/newDisk/anaconda3/envs/zz_pytorch/lib/python3.9/site-packages/sklearn/cluster/_kmeans.py:1412: FutureWarning: The default value of `n_init` will change from 10 to 'auto' in 1.4. Set the value of `n_init` explicitly to suppress the warning\n",
      "  super()._check_params_vs_input(X, default_n_init=10)\n"
     ]
    },
    {
     "name": "stdout",
     "output_type": "stream",
     "text": [
      "coasted 0:04:38.581668\n",
      "data processing\n"
     ]
    },
    {
     "name": "stderr",
     "output_type": "stream",
     "text": [
      "/tmp/ipykernel_2221566/2492021236.py:12: RuntimeWarning: invalid value encountered in sqrt\n",
      "  cos = abs((1 - (r/rsun)**2)**0.5)\n"
     ]
    },
    {
     "name": "stdout",
     "output_type": "stream",
     "text": [
      "file done\n"
     ]
    },
    {
     "name": "stderr",
     "output_type": "stream",
     "text": [
      "/home/aiia/newDisk/anaconda3/envs/zz_pytorch/lib/python3.9/site-packages/sklearn/cluster/_kmeans.py:1412: FutureWarning: The default value of `n_init` will change from 10 to 'auto' in 1.4. Set the value of `n_init` explicitly to suppress the warning\n",
      "  super()._check_params_vs_input(X, default_n_init=10)\n"
     ]
    },
    {
     "name": "stdout",
     "output_type": "stream",
     "text": [
      "coasted 0:05:11.299536\n",
      "data processing\n"
     ]
    },
    {
     "name": "stderr",
     "output_type": "stream",
     "text": [
      "/tmp/ipykernel_2221566/2492021236.py:12: RuntimeWarning: invalid value encountered in sqrt\n",
      "  cos = abs((1 - (r/rsun)**2)**0.5)\n"
     ]
    },
    {
     "name": "stdout",
     "output_type": "stream",
     "text": [
      "file done\n"
     ]
    },
    {
     "name": "stderr",
     "output_type": "stream",
     "text": [
      "/home/aiia/newDisk/anaconda3/envs/zz_pytorch/lib/python3.9/site-packages/sklearn/cluster/_kmeans.py:1412: FutureWarning: The default value of `n_init` will change from 10 to 'auto' in 1.4. Set the value of `n_init` explicitly to suppress the warning\n",
      "  super()._check_params_vs_input(X, default_n_init=10)\n"
     ]
    },
    {
     "name": "stdout",
     "output_type": "stream",
     "text": [
      "coasted 0:04:19.254838\n",
      "data processing\n"
     ]
    },
    {
     "name": "stderr",
     "output_type": "stream",
     "text": [
      "/tmp/ipykernel_2221566/2492021236.py:12: RuntimeWarning: invalid value encountered in sqrt\n",
      "  cos = abs((1 - (r/rsun)**2)**0.5)\n"
     ]
    },
    {
     "name": "stdout",
     "output_type": "stream",
     "text": [
      "file done\n"
     ]
    },
    {
     "name": "stderr",
     "output_type": "stream",
     "text": [
      "/home/aiia/newDisk/anaconda3/envs/zz_pytorch/lib/python3.9/site-packages/sklearn/cluster/_kmeans.py:1412: FutureWarning: The default value of `n_init` will change from 10 to 'auto' in 1.4. Set the value of `n_init` explicitly to suppress the warning\n",
      "  super()._check_params_vs_input(X, default_n_init=10)\n"
     ]
    },
    {
     "name": "stdout",
     "output_type": "stream",
     "text": [
      "coasted 0:04:19.157410\n",
      "data processing\n"
     ]
    },
    {
     "name": "stderr",
     "output_type": "stream",
     "text": [
      "/tmp/ipykernel_2221566/2492021236.py:12: RuntimeWarning: invalid value encountered in sqrt\n",
      "  cos = abs((1 - (r/rsun)**2)**0.5)\n"
     ]
    },
    {
     "name": "stdout",
     "output_type": "stream",
     "text": [
      "file done\n"
     ]
    },
    {
     "name": "stderr",
     "output_type": "stream",
     "text": [
      "/home/aiia/newDisk/anaconda3/envs/zz_pytorch/lib/python3.9/site-packages/sklearn/cluster/_kmeans.py:1412: FutureWarning: The default value of `n_init` will change from 10 to 'auto' in 1.4. Set the value of `n_init` explicitly to suppress the warning\n",
      "  super()._check_params_vs_input(X, default_n_init=10)\n"
     ]
    },
    {
     "name": "stdout",
     "output_type": "stream",
     "text": [
      "coasted 0:04:20.788277\n",
      "data processing\n"
     ]
    },
    {
     "name": "stderr",
     "output_type": "stream",
     "text": [
      "/tmp/ipykernel_2221566/2492021236.py:12: RuntimeWarning: invalid value encountered in sqrt\n",
      "  cos = abs((1 - (r/rsun)**2)**0.5)\n"
     ]
    },
    {
     "name": "stdout",
     "output_type": "stream",
     "text": [
      "file done\n"
     ]
    },
    {
     "name": "stderr",
     "output_type": "stream",
     "text": [
      "/home/aiia/newDisk/anaconda3/envs/zz_pytorch/lib/python3.9/site-packages/sklearn/cluster/_kmeans.py:1412: FutureWarning: The default value of `n_init` will change from 10 to 'auto' in 1.4. Set the value of `n_init` explicitly to suppress the warning\n",
      "  super()._check_params_vs_input(X, default_n_init=10)\n"
     ]
    },
    {
     "name": "stdout",
     "output_type": "stream",
     "text": [
      "coasted 0:04:26.689524\n",
      "data processing\n"
     ]
    },
    {
     "name": "stderr",
     "output_type": "stream",
     "text": [
      "/tmp/ipykernel_2221566/2492021236.py:12: RuntimeWarning: invalid value encountered in sqrt\n",
      "  cos = abs((1 - (r/rsun)**2)**0.5)\n"
     ]
    },
    {
     "name": "stdout",
     "output_type": "stream",
     "text": [
      "file done\n"
     ]
    },
    {
     "name": "stderr",
     "output_type": "stream",
     "text": [
      "/home/aiia/newDisk/anaconda3/envs/zz_pytorch/lib/python3.9/site-packages/sklearn/cluster/_kmeans.py:1412: FutureWarning: The default value of `n_init` will change from 10 to 'auto' in 1.4. Set the value of `n_init` explicitly to suppress the warning\n",
      "  super()._check_params_vs_input(X, default_n_init=10)\n"
     ]
    },
    {
     "name": "stdout",
     "output_type": "stream",
     "text": [
      "coasted 0:04:23.315992\n",
      "data processing\n"
     ]
    },
    {
     "name": "stderr",
     "output_type": "stream",
     "text": [
      "/tmp/ipykernel_2221566/2492021236.py:12: RuntimeWarning: invalid value encountered in sqrt\n",
      "  cos = abs((1 - (r/rsun)**2)**0.5)\n"
     ]
    },
    {
     "name": "stdout",
     "output_type": "stream",
     "text": [
      "file done\n"
     ]
    },
    {
     "name": "stderr",
     "output_type": "stream",
     "text": [
      "/home/aiia/newDisk/anaconda3/envs/zz_pytorch/lib/python3.9/site-packages/sklearn/cluster/_kmeans.py:1412: FutureWarning: The default value of `n_init` will change from 10 to 'auto' in 1.4. Set the value of `n_init` explicitly to suppress the warning\n",
      "  super()._check_params_vs_input(X, default_n_init=10)\n"
     ]
    },
    {
     "name": "stdout",
     "output_type": "stream",
     "text": [
      "coasted 0:04:32.266460\n",
      "data processing\n"
     ]
    },
    {
     "name": "stderr",
     "output_type": "stream",
     "text": [
      "/tmp/ipykernel_2221566/2492021236.py:12: RuntimeWarning: invalid value encountered in sqrt\n",
      "  cos = abs((1 - (r/rsun)**2)**0.5)\n"
     ]
    },
    {
     "name": "stdout",
     "output_type": "stream",
     "text": [
      "file done\n"
     ]
    },
    {
     "name": "stderr",
     "output_type": "stream",
     "text": [
      "/home/aiia/newDisk/anaconda3/envs/zz_pytorch/lib/python3.9/site-packages/sklearn/cluster/_kmeans.py:1412: FutureWarning: The default value of `n_init` will change from 10 to 'auto' in 1.4. Set the value of `n_init` explicitly to suppress the warning\n",
      "  super()._check_params_vs_input(X, default_n_init=10)\n"
     ]
    },
    {
     "name": "stdout",
     "output_type": "stream",
     "text": [
      "coasted 0:04:29.718883\n",
      "data processing\n"
     ]
    },
    {
     "name": "stderr",
     "output_type": "stream",
     "text": [
      "/tmp/ipykernel_2221566/2492021236.py:12: RuntimeWarning: invalid value encountered in sqrt\n",
      "  cos = abs((1 - (r/rsun)**2)**0.5)\n"
     ]
    },
    {
     "name": "stdout",
     "output_type": "stream",
     "text": [
      "file done\n"
     ]
    },
    {
     "name": "stderr",
     "output_type": "stream",
     "text": [
      "/home/aiia/newDisk/anaconda3/envs/zz_pytorch/lib/python3.9/site-packages/sklearn/cluster/_kmeans.py:1412: FutureWarning: The default value of `n_init` will change from 10 to 'auto' in 1.4. Set the value of `n_init` explicitly to suppress the warning\n",
      "  super()._check_params_vs_input(X, default_n_init=10)\n"
     ]
    },
    {
     "name": "stdout",
     "output_type": "stream",
     "text": [
      "coasted 0:04:15.154096\n",
      "data processing\n"
     ]
    },
    {
     "name": "stderr",
     "output_type": "stream",
     "text": [
      "/tmp/ipykernel_2221566/2492021236.py:12: RuntimeWarning: invalid value encountered in sqrt\n",
      "  cos = abs((1 - (r/rsun)**2)**0.5)\n"
     ]
    },
    {
     "name": "stdout",
     "output_type": "stream",
     "text": [
      "file done\n"
     ]
    },
    {
     "name": "stderr",
     "output_type": "stream",
     "text": [
      "/home/aiia/newDisk/anaconda3/envs/zz_pytorch/lib/python3.9/site-packages/sklearn/cluster/_kmeans.py:1412: FutureWarning: The default value of `n_init` will change from 10 to 'auto' in 1.4. Set the value of `n_init` explicitly to suppress the warning\n",
      "  super()._check_params_vs_input(X, default_n_init=10)\n"
     ]
    },
    {
     "name": "stdout",
     "output_type": "stream",
     "text": [
      "coasted 0:04:25.601124\n",
      "data processing\n"
     ]
    },
    {
     "name": "stderr",
     "output_type": "stream",
     "text": [
      "/tmp/ipykernel_2221566/2492021236.py:12: RuntimeWarning: invalid value encountered in sqrt\n",
      "  cos = abs((1 - (r/rsun)**2)**0.5)\n"
     ]
    },
    {
     "name": "stdout",
     "output_type": "stream",
     "text": [
      "file done\n"
     ]
    },
    {
     "name": "stderr",
     "output_type": "stream",
     "text": [
      "/home/aiia/newDisk/anaconda3/envs/zz_pytorch/lib/python3.9/site-packages/sklearn/cluster/_kmeans.py:1412: FutureWarning: The default value of `n_init` will change from 10 to 'auto' in 1.4. Set the value of `n_init` explicitly to suppress the warning\n",
      "  super()._check_params_vs_input(X, default_n_init=10)\n"
     ]
    },
    {
     "name": "stdout",
     "output_type": "stream",
     "text": [
      "coasted 0:04:30.117977\n",
      "data processing\n"
     ]
    },
    {
     "name": "stderr",
     "output_type": "stream",
     "text": [
      "/tmp/ipykernel_2221566/2492021236.py:12: RuntimeWarning: invalid value encountered in sqrt\n",
      "  cos = abs((1 - (r/rsun)**2)**0.5)\n"
     ]
    },
    {
     "name": "stdout",
     "output_type": "stream",
     "text": [
      "file done\n"
     ]
    },
    {
     "name": "stderr",
     "output_type": "stream",
     "text": [
      "/home/aiia/newDisk/anaconda3/envs/zz_pytorch/lib/python3.9/site-packages/sklearn/cluster/_kmeans.py:1412: FutureWarning: The default value of `n_init` will change from 10 to 'auto' in 1.4. Set the value of `n_init` explicitly to suppress the warning\n",
      "  super()._check_params_vs_input(X, default_n_init=10)\n"
     ]
    },
    {
     "name": "stdout",
     "output_type": "stream",
     "text": [
      "coasted 0:04:12.951455\n",
      "data processing\n"
     ]
    },
    {
     "name": "stderr",
     "output_type": "stream",
     "text": [
      "/tmp/ipykernel_2221566/2492021236.py:12: RuntimeWarning: invalid value encountered in sqrt\n",
      "  cos = abs((1 - (r/rsun)**2)**0.5)\n"
     ]
    },
    {
     "name": "stdout",
     "output_type": "stream",
     "text": [
      "file done\n"
     ]
    },
    {
     "name": "stderr",
     "output_type": "stream",
     "text": [
      "/home/aiia/newDisk/anaconda3/envs/zz_pytorch/lib/python3.9/site-packages/sklearn/cluster/_kmeans.py:1412: FutureWarning: The default value of `n_init` will change from 10 to 'auto' in 1.4. Set the value of `n_init` explicitly to suppress the warning\n",
      "  super()._check_params_vs_input(X, default_n_init=10)\n"
     ]
    },
    {
     "name": "stdout",
     "output_type": "stream",
     "text": [
      "coasted 0:04:32.661980\n",
      "data processing\n"
     ]
    },
    {
     "name": "stderr",
     "output_type": "stream",
     "text": [
      "/tmp/ipykernel_2221566/2492021236.py:12: RuntimeWarning: invalid value encountered in sqrt\n",
      "  cos = abs((1 - (r/rsun)**2)**0.5)\n"
     ]
    },
    {
     "name": "stdout",
     "output_type": "stream",
     "text": [
      "file done\n"
     ]
    },
    {
     "name": "stderr",
     "output_type": "stream",
     "text": [
      "/home/aiia/newDisk/anaconda3/envs/zz_pytorch/lib/python3.9/site-packages/sklearn/cluster/_kmeans.py:1412: FutureWarning: The default value of `n_init` will change from 10 to 'auto' in 1.4. Set the value of `n_init` explicitly to suppress the warning\n",
      "  super()._check_params_vs_input(X, default_n_init=10)\n"
     ]
    },
    {
     "name": "stdout",
     "output_type": "stream",
     "text": [
      "coasted 0:04:30.550629\n",
      "data processing\n"
     ]
    },
    {
     "name": "stderr",
     "output_type": "stream",
     "text": [
      "/tmp/ipykernel_2221566/2492021236.py:12: RuntimeWarning: invalid value encountered in sqrt\n",
      "  cos = abs((1 - (r/rsun)**2)**0.5)\n"
     ]
    },
    {
     "name": "stdout",
     "output_type": "stream",
     "text": [
      "file done\n"
     ]
    },
    {
     "name": "stderr",
     "output_type": "stream",
     "text": [
      "/home/aiia/newDisk/anaconda3/envs/zz_pytorch/lib/python3.9/site-packages/sklearn/cluster/_kmeans.py:1412: FutureWarning: The default value of `n_init` will change from 10 to 'auto' in 1.4. Set the value of `n_init` explicitly to suppress the warning\n",
      "  super()._check_params_vs_input(X, default_n_init=10)\n"
     ]
    },
    {
     "name": "stdout",
     "output_type": "stream",
     "text": [
      "coasted 0:04:19.123805\n",
      "data processing\n"
     ]
    },
    {
     "name": "stderr",
     "output_type": "stream",
     "text": [
      "/tmp/ipykernel_2221566/2492021236.py:12: RuntimeWarning: invalid value encountered in sqrt\n",
      "  cos = abs((1 - (r/rsun)**2)**0.5)\n"
     ]
    },
    {
     "name": "stdout",
     "output_type": "stream",
     "text": [
      "file done\n"
     ]
    },
    {
     "name": "stderr",
     "output_type": "stream",
     "text": [
      "/home/aiia/newDisk/anaconda3/envs/zz_pytorch/lib/python3.9/site-packages/sklearn/cluster/_kmeans.py:1412: FutureWarning: The default value of `n_init` will change from 10 to 'auto' in 1.4. Set the value of `n_init` explicitly to suppress the warning\n",
      "  super()._check_params_vs_input(X, default_n_init=10)\n"
     ]
    },
    {
     "name": "stdout",
     "output_type": "stream",
     "text": [
      "coasted 0:04:58.932911\n",
      "data processing\n"
     ]
    },
    {
     "name": "stderr",
     "output_type": "stream",
     "text": [
      "/tmp/ipykernel_2221566/2492021236.py:12: RuntimeWarning: invalid value encountered in sqrt\n",
      "  cos = abs((1 - (r/rsun)**2)**0.5)\n"
     ]
    },
    {
     "name": "stdout",
     "output_type": "stream",
     "text": [
      "file done\n"
     ]
    },
    {
     "name": "stderr",
     "output_type": "stream",
     "text": [
      "/home/aiia/newDisk/anaconda3/envs/zz_pytorch/lib/python3.9/site-packages/sklearn/cluster/_kmeans.py:1412: FutureWarning: The default value of `n_init` will change from 10 to 'auto' in 1.4. Set the value of `n_init` explicitly to suppress the warning\n",
      "  super()._check_params_vs_input(X, default_n_init=10)\n"
     ]
    },
    {
     "name": "stdout",
     "output_type": "stream",
     "text": [
      "coasted 0:04:28.517106\n",
      "data processing\n"
     ]
    },
    {
     "name": "stderr",
     "output_type": "stream",
     "text": [
      "/tmp/ipykernel_2221566/2492021236.py:12: RuntimeWarning: invalid value encountered in sqrt\n",
      "  cos = abs((1 - (r/rsun)**2)**0.5)\n"
     ]
    },
    {
     "name": "stdout",
     "output_type": "stream",
     "text": [
      "file done\n"
     ]
    },
    {
     "name": "stderr",
     "output_type": "stream",
     "text": [
      "/home/aiia/newDisk/anaconda3/envs/zz_pytorch/lib/python3.9/site-packages/sklearn/cluster/_kmeans.py:1412: FutureWarning: The default value of `n_init` will change from 10 to 'auto' in 1.4. Set the value of `n_init` explicitly to suppress the warning\n",
      "  super()._check_params_vs_input(X, default_n_init=10)\n"
     ]
    },
    {
     "name": "stdout",
     "output_type": "stream",
     "text": [
      "coasted 0:04:34.427936\n",
      "data processing\n"
     ]
    },
    {
     "name": "stderr",
     "output_type": "stream",
     "text": [
      "/tmp/ipykernel_2221566/2492021236.py:12: RuntimeWarning: invalid value encountered in sqrt\n",
      "  cos = abs((1 - (r/rsun)**2)**0.5)\n"
     ]
    },
    {
     "name": "stdout",
     "output_type": "stream",
     "text": [
      "file done\n"
     ]
    },
    {
     "name": "stderr",
     "output_type": "stream",
     "text": [
      "/home/aiia/newDisk/anaconda3/envs/zz_pytorch/lib/python3.9/site-packages/sklearn/cluster/_kmeans.py:1412: FutureWarning: The default value of `n_init` will change from 10 to 'auto' in 1.4. Set the value of `n_init` explicitly to suppress the warning\n",
      "  super()._check_params_vs_input(X, default_n_init=10)\n"
     ]
    },
    {
     "name": "stdout",
     "output_type": "stream",
     "text": [
      "coasted 0:04:16.037320\n",
      "data processing\n"
     ]
    },
    {
     "name": "stderr",
     "output_type": "stream",
     "text": [
      "/tmp/ipykernel_2221566/2492021236.py:12: RuntimeWarning: invalid value encountered in sqrt\n",
      "  cos = abs((1 - (r/rsun)**2)**0.5)\n"
     ]
    },
    {
     "name": "stdout",
     "output_type": "stream",
     "text": [
      "file done\n"
     ]
    },
    {
     "name": "stderr",
     "output_type": "stream",
     "text": [
      "/home/aiia/newDisk/anaconda3/envs/zz_pytorch/lib/python3.9/site-packages/sklearn/cluster/_kmeans.py:1412: FutureWarning: The default value of `n_init` will change from 10 to 'auto' in 1.4. Set the value of `n_init` explicitly to suppress the warning\n",
      "  super()._check_params_vs_input(X, default_n_init=10)\n"
     ]
    },
    {
     "name": "stdout",
     "output_type": "stream",
     "text": [
      "coasted 0:04:29.218337\n",
      "data processing\n"
     ]
    },
    {
     "name": "stderr",
     "output_type": "stream",
     "text": [
      "/tmp/ipykernel_2221566/2492021236.py:12: RuntimeWarning: invalid value encountered in sqrt\n",
      "  cos = abs((1 - (r/rsun)**2)**0.5)\n"
     ]
    },
    {
     "name": "stdout",
     "output_type": "stream",
     "text": [
      "file done\n"
     ]
    },
    {
     "name": "stderr",
     "output_type": "stream",
     "text": [
      "/home/aiia/newDisk/anaconda3/envs/zz_pytorch/lib/python3.9/site-packages/sklearn/cluster/_kmeans.py:1412: FutureWarning: The default value of `n_init` will change from 10 to 'auto' in 1.4. Set the value of `n_init` explicitly to suppress the warning\n",
      "  super()._check_params_vs_input(X, default_n_init=10)\n"
     ]
    },
    {
     "name": "stdout",
     "output_type": "stream",
     "text": [
      "coasted 0:04:44.248771\n",
      "data processing\n"
     ]
    },
    {
     "name": "stderr",
     "output_type": "stream",
     "text": [
      "/tmp/ipykernel_2221566/2492021236.py:12: RuntimeWarning: invalid value encountered in sqrt\n",
      "  cos = abs((1 - (r/rsun)**2)**0.5)\n"
     ]
    },
    {
     "name": "stdout",
     "output_type": "stream",
     "text": [
      "file done\n"
     ]
    },
    {
     "name": "stderr",
     "output_type": "stream",
     "text": [
      "/home/aiia/newDisk/anaconda3/envs/zz_pytorch/lib/python3.9/site-packages/sklearn/cluster/_kmeans.py:1412: FutureWarning: The default value of `n_init` will change from 10 to 'auto' in 1.4. Set the value of `n_init` explicitly to suppress the warning\n",
      "  super()._check_params_vs_input(X, default_n_init=10)\n"
     ]
    },
    {
     "name": "stdout",
     "output_type": "stream",
     "text": [
      "coasted 0:04:21.780667\n",
      "data processing\n"
     ]
    },
    {
     "name": "stderr",
     "output_type": "stream",
     "text": [
      "/tmp/ipykernel_2221566/2492021236.py:12: RuntimeWarning: invalid value encountered in sqrt\n",
      "  cos = abs((1 - (r/rsun)**2)**0.5)\n"
     ]
    },
    {
     "name": "stdout",
     "output_type": "stream",
     "text": [
      "file done\n"
     ]
    },
    {
     "name": "stderr",
     "output_type": "stream",
     "text": [
      "/home/aiia/newDisk/anaconda3/envs/zz_pytorch/lib/python3.9/site-packages/sklearn/cluster/_kmeans.py:1412: FutureWarning: The default value of `n_init` will change from 10 to 'auto' in 1.4. Set the value of `n_init` explicitly to suppress the warning\n",
      "  super()._check_params_vs_input(X, default_n_init=10)\n"
     ]
    },
    {
     "name": "stdout",
     "output_type": "stream",
     "text": [
      "coasted 0:04:51.365508\n",
      "data processing\n"
     ]
    },
    {
     "name": "stderr",
     "output_type": "stream",
     "text": [
      "/tmp/ipykernel_2221566/2492021236.py:12: RuntimeWarning: invalid value encountered in sqrt\n",
      "  cos = abs((1 - (r/rsun)**2)**0.5)\n"
     ]
    },
    {
     "name": "stdout",
     "output_type": "stream",
     "text": [
      "file done\n"
     ]
    },
    {
     "name": "stderr",
     "output_type": "stream",
     "text": [
      "/home/aiia/newDisk/anaconda3/envs/zz_pytorch/lib/python3.9/site-packages/sklearn/cluster/_kmeans.py:1412: FutureWarning: The default value of `n_init` will change from 10 to 'auto' in 1.4. Set the value of `n_init` explicitly to suppress the warning\n",
      "  super()._check_params_vs_input(X, default_n_init=10)\n"
     ]
    },
    {
     "name": "stdout",
     "output_type": "stream",
     "text": [
      "coasted 0:04:35.646096\n",
      "data processing\n"
     ]
    },
    {
     "name": "stderr",
     "output_type": "stream",
     "text": [
      "/tmp/ipykernel_2221566/2492021236.py:12: RuntimeWarning: invalid value encountered in sqrt\n",
      "  cos = abs((1 - (r/rsun)**2)**0.5)\n"
     ]
    },
    {
     "name": "stdout",
     "output_type": "stream",
     "text": [
      "file done\n"
     ]
    },
    {
     "name": "stderr",
     "output_type": "stream",
     "text": [
      "/home/aiia/newDisk/anaconda3/envs/zz_pytorch/lib/python3.9/site-packages/sklearn/cluster/_kmeans.py:1412: FutureWarning: The default value of `n_init` will change from 10 to 'auto' in 1.4. Set the value of `n_init` explicitly to suppress the warning\n",
      "  super()._check_params_vs_input(X, default_n_init=10)\n"
     ]
    },
    {
     "name": "stdout",
     "output_type": "stream",
     "text": [
      "coasted 0:04:06.116787\n",
      "data processing\n"
     ]
    },
    {
     "name": "stderr",
     "output_type": "stream",
     "text": [
      "/tmp/ipykernel_2221566/2492021236.py:12: RuntimeWarning: invalid value encountered in sqrt\n",
      "  cos = abs((1 - (r/rsun)**2)**0.5)\n"
     ]
    },
    {
     "name": "stdout",
     "output_type": "stream",
     "text": [
      "file done\n"
     ]
    },
    {
     "name": "stderr",
     "output_type": "stream",
     "text": [
      "/home/aiia/newDisk/anaconda3/envs/zz_pytorch/lib/python3.9/site-packages/sklearn/cluster/_kmeans.py:1412: FutureWarning: The default value of `n_init` will change from 10 to 'auto' in 1.4. Set the value of `n_init` explicitly to suppress the warning\n",
      "  super()._check_params_vs_input(X, default_n_init=10)\n"
     ]
    },
    {
     "name": "stdout",
     "output_type": "stream",
     "text": [
      "coasted 0:04:29.519052\n",
      "data processing\n"
     ]
    },
    {
     "name": "stderr",
     "output_type": "stream",
     "text": [
      "/tmp/ipykernel_2221566/2492021236.py:12: RuntimeWarning: invalid value encountered in sqrt\n",
      "  cos = abs((1 - (r/rsun)**2)**0.5)\n"
     ]
    },
    {
     "name": "stdout",
     "output_type": "stream",
     "text": [
      "file done\n"
     ]
    },
    {
     "name": "stderr",
     "output_type": "stream",
     "text": [
      "/home/aiia/newDisk/anaconda3/envs/zz_pytorch/lib/python3.9/site-packages/sklearn/cluster/_kmeans.py:1412: FutureWarning: The default value of `n_init` will change from 10 to 'auto' in 1.4. Set the value of `n_init` explicitly to suppress the warning\n",
      "  super()._check_params_vs_input(X, default_n_init=10)\n"
     ]
    },
    {
     "name": "stdout",
     "output_type": "stream",
     "text": [
      "coasted 0:04:24.810670\n",
      "data processing\n"
     ]
    },
    {
     "name": "stderr",
     "output_type": "stream",
     "text": [
      "/tmp/ipykernel_2221566/2492021236.py:12: RuntimeWarning: invalid value encountered in sqrt\n",
      "  cos = abs((1 - (r/rsun)**2)**0.5)\n"
     ]
    },
    {
     "name": "stdout",
     "output_type": "stream",
     "text": [
      "file done\n"
     ]
    },
    {
     "name": "stderr",
     "output_type": "stream",
     "text": [
      "/home/aiia/newDisk/anaconda3/envs/zz_pytorch/lib/python3.9/site-packages/sklearn/cluster/_kmeans.py:1412: FutureWarning: The default value of `n_init` will change from 10 to 'auto' in 1.4. Set the value of `n_init` explicitly to suppress the warning\n",
      "  super()._check_params_vs_input(X, default_n_init=10)\n"
     ]
    },
    {
     "name": "stdout",
     "output_type": "stream",
     "text": [
      "coasted 0:04:45.476878\n"
     ]
    }
   ],
   "source": [
    "import joblib\n",
    "from dateutil.parser import parse\n",
    "from datetime import datetime\n",
    "\n",
    "k = 30\n",
    "\n",
    "error_list = []\n",
    "\n",
    "for i in range(len(file_list)):\n",
    "    try:\n",
    "        starttime = datetime.now()\n",
    "\n",
    "        hdu_file = file_list[i]\n",
    "        test_data, test_header = readchase(hdu_file)\n",
    "        test_ndata = kmeans_process(test_data, test_header)\n",
    "\n",
    "        test_ha = test_data[1]\n",
    "        test_tdata = test_ndata.reshape(118,-1).T\n",
    "\n",
    "        kmodel = KMeans(n_clusters = k)\n",
    "        kmodel.fit(test_tdata)\n",
    "        kresult = kmodel.labels_\n",
    "        kmap = np.array(kresult, dtype = float).reshape(2048,2048)\n",
    "\n",
    "        hdu_date = parse(hdu_file.split(\"RSM\")[1][:8]).strftime(\"%Y_%m%d\")\n",
    "\n",
    "        plt.imsave(f'./kmeans_result_30/imgs/{hdu_date}.png', test_ha, vmin = 0,\n",
    "                   vmax = test_ha.mean()*3, cmap = 'gray', origin = 'lower')\n",
    "        plt.imsave(f'./kmeans_result_30/ha/{hdu_date}.png', test_ha, vmin = 0,\n",
    "                   vmax = test_ha.mean()*3, cmap = 'afmhot', origin = 'lower')\n",
    "\n",
    "\n",
    "        joblib.dump(kmodel, f'./model_30/kmodel_{hdu_date}.pkl')\n",
    "\n",
    "        for j in range(k):\n",
    "\n",
    "            kimg = (kmap == j)*1\n",
    "            plt.imsave(f'./kmeans_result_30/outputs/{hdu_date}_{j}.png', kimg, vmin = 0, vmax = 1, cmap = 'gray', origin = 'lower')\n",
    "\n",
    "        endtime = datetime.now()\n",
    "        print('coasted ' + str(endtime - starttime))\n",
    "        \n",
    "    except Exception as e:\n",
    "        error_list.append(e)\n",
    "        print('error:', e)\n",
    "        continue"
   ]
  },
  {
   "cell_type": "code",
   "execution_count": null,
   "id": "48a33f26",
   "metadata": {},
   "outputs": [],
   "source": []
  }
 ],
 "metadata": {
  "kernelspec": {
   "display_name": "Python 3 (ipykernel)",
   "language": "python",
   "name": "python3"
  },
  "language_info": {
   "codemirror_mode": {
    "name": "ipython",
    "version": 3
   },
   "file_extension": ".py",
   "mimetype": "text/x-python",
   "name": "python",
   "nbconvert_exporter": "python",
   "pygments_lexer": "ipython3",
   "version": "3.8.16"
  }
 },
 "nbformat": 4,
 "nbformat_minor": 5
}
